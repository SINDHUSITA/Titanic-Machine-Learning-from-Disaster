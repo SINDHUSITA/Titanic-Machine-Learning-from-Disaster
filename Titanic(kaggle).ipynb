{
  "nbformat": 4,
  "nbformat_minor": 0,
  "metadata": {
    "colab": {
      "name": "Titanic.ipynb",
      "provenance": [],
      "authorship_tag": "ABX9TyPx/wOrh5C24mA/DfMBSpgk",
      "include_colab_link": true
    },
    "kernelspec": {
      "name": "python3",
      "display_name": "Python 3"
    },
    "accelerator": "TPU"
  },
  "cells": [
    {
      "cell_type": "markdown",
      "metadata": {
        "id": "view-in-github",
        "colab_type": "text"
      },
      "source": [
        "<a href=\"https://colab.research.google.com/github/SINDHUSITA/Titanic-Machine-Learning-from-Disaster/blob/master/Titanic(kaggle).ipynb\" target=\"_parent\"><img src=\"https://colab.research.google.com/assets/colab-badge.svg\" alt=\"Open In Colab\"/></a>"
      ]
    },
    {
      "cell_type": "markdown",
      "metadata": {
        "id": "8rsPgqr7qwRJ",
        "colab_type": "text"
      },
      "source": [
        "# Titanic: Machine Learning from Disaster"
      ]
    },
    {
      "cell_type": "markdown",
      "metadata": {
        "id": "MT_QfcHYq3oh",
        "colab_type": "text"
      },
      "source": [
        "## Importing basic packages"
      ]
    },
    {
      "cell_type": "code",
      "metadata": {
        "id": "OFze4XwyqYxp",
        "colab_type": "code",
        "colab": {}
      },
      "source": [
        "import pandas as pd\n",
        "import numpy as np\n",
        "import matplotlib.pyplot as plt"
      ],
      "execution_count": 0,
      "outputs": []
    },
    {
      "cell_type": "markdown",
      "metadata": {
        "id": "yxmqbkiIrTmo",
        "colab_type": "text"
      },
      "source": [
        "## Importing Data"
      ]
    },
    {
      "cell_type": "code",
      "metadata": {
        "id": "oMDA6IQCrW_C",
        "colab_type": "code",
        "outputId": "d3635819-15c1-4c16-9597-db5f3236bd37",
        "colab": {
          "base_uri": "https://localhost:8080/",
          "height": 391
        }
      },
      "source": [
        "dataset = pd.read_csv('train.csv')\n",
        "pred = pd.read_csv('test.csv')\n",
        "\n",
        "print(\"Train data shape: \",dataset.shape,'\\n\\nHow train data looks: \\n',dataset.head())\n",
        "print(\"Test data shape: \",pred.shape,'\\n\\nHow test data looks: \\n',pred.head())"
      ],
      "execution_count": 2,
      "outputs": [
        {
          "output_type": "stream",
          "text": [
            "Train data shape:  (891, 12) \n",
            "\n",
            "How train data looks: \n",
            "    PassengerId  Survived  Pclass  ...     Fare Cabin  Embarked\n",
            "0            1         0       3  ...   7.2500   NaN         S\n",
            "1            2         1       1  ...  71.2833   C85         C\n",
            "2            3         1       3  ...   7.9250   NaN         S\n",
            "3            4         1       1  ...  53.1000  C123         S\n",
            "4            5         0       3  ...   8.0500   NaN         S\n",
            "\n",
            "[5 rows x 12 columns]\n",
            "Test data shape:  (418, 11) \n",
            "\n",
            "How test data looks: \n",
            "    PassengerId  Pclass  ... Cabin Embarked\n",
            "0          892       3  ...   NaN        Q\n",
            "1          893       3  ...   NaN        S\n",
            "2          894       2  ...   NaN        Q\n",
            "3          895       3  ...   NaN        S\n",
            "4          896       3  ...   NaN        S\n",
            "\n",
            "[5 rows x 11 columns]\n"
          ],
          "name": "stdout"
        }
      ]
    },
    {
      "cell_type": "markdown",
      "metadata": {
        "id": "5u4Vr4gKwnnK",
        "colab_type": "text"
      },
      "source": [
        "### Splitting dependent and independent features"
      ]
    },
    {
      "cell_type": "code",
      "metadata": {
        "id": "B8Z_jh6wtBhg",
        "colab_type": "code",
        "outputId": "f64d346e-14d8-4550-dd54-4cfcc80292a7",
        "colab": {
          "base_uri": "https://localhost:8080/",
          "height": 68
        }
      },
      "source": [
        "print(\"Independent features are: \",list(dataset.columns[2:]),'\\nDependent or Prediction variable: ',dataset.columns[1])\n",
        "X = dataset.iloc[:,2:]\n",
        "y = dataset.iloc[:,1:2]\n",
        "\n",
        "print('Shape of X and y: ',X.shape,y.shape)"
      ],
      "execution_count": 3,
      "outputs": [
        {
          "output_type": "stream",
          "text": [
            "Independent features are:  ['Pclass', 'Name', 'Sex', 'Age', 'SibSp', 'Parch', 'Ticket', 'Fare', 'Cabin', 'Embarked'] \n",
            "Dependent or Prediction variable:  Survived\n",
            "Shape of X and y:  (891, 10) (891, 1)\n"
          ],
          "name": "stdout"
        }
      ]
    },
    {
      "cell_type": "markdown",
      "metadata": {
        "id": "0WlrCbO2x5zH",
        "colab_type": "text"
      },
      "source": [
        "## Handling missing data"
      ]
    },
    {
      "cell_type": "code",
      "metadata": {
        "id": "Sytf7QQhry3U",
        "colab_type": "code",
        "outputId": "482cd4c8-ac47-422e-d18a-54d3b0a4f540",
        "colab": {
          "base_uri": "https://localhost:8080/",
          "height": 255
        }
      },
      "source": [
        "nulls = X.isna().sum().sort_values(ascending=False)\n",
        "print('Number of nulls in each column: \\n',nulls)\n",
        "nulls = y.isna().sum().sort_values(ascending=False)\n",
        "print('Number of nulls in dependent feature column: ',nulls)"
      ],
      "execution_count": 4,
      "outputs": [
        {
          "output_type": "stream",
          "text": [
            "Number of nulls in each column: \n",
            " Cabin       687\n",
            "Age         177\n",
            "Embarked      2\n",
            "Fare          0\n",
            "Ticket        0\n",
            "Parch         0\n",
            "SibSp         0\n",
            "Sex           0\n",
            "Name          0\n",
            "Pclass        0\n",
            "dtype: int64\n",
            "Number of nulls in dependent feature column:  Survived    0\n",
            "dtype: int64\n"
          ],
          "name": "stdout"
        }
      ]
    },
    {
      "cell_type": "markdown",
      "metadata": {
        "id": "cOd1ITJCrxIY",
        "colab_type": "text"
      },
      "source": [
        "### Handling missing data in AGE column"
      ]
    },
    {
      "cell_type": "code",
      "metadata": {
        "id": "voSc3o6qsBCI",
        "colab_type": "code",
        "outputId": "34d7c781-e16f-4797-a365-8271ee0dbe60",
        "colab": {
          "base_uri": "https://localhost:8080/",
          "height": 170
        }
      },
      "source": [
        "print(\"Handling missing values in Age column:\\n\",X['Age'].head())\n",
        "print('Nulls initially in age: ',X['Age'].isna().sum())\n",
        "# replacing missing ages with mean values\n",
        "X['Age'] = X['Age'].interpolate(method='linear', limit_direction='forward', axis=0)\n",
        "#X['Age'].fillna((X['Age'].mean()), inplace=True)\n",
        "print('After handling: ',X['Age'].isna().sum())"
      ],
      "execution_count": 5,
      "outputs": [
        {
          "output_type": "stream",
          "text": [
            "Handling missing values in Age column:\n",
            " 0    22.0\n",
            "1    38.0\n",
            "2    26.0\n",
            "3    35.0\n",
            "4    35.0\n",
            "Name: Age, dtype: float64\n",
            "Nulls initially in age:  177\n",
            "After handling:  0\n"
          ],
          "name": "stdout"
        }
      ]
    },
    {
      "cell_type": "markdown",
      "metadata": {
        "id": "KjqnJbiBr54G",
        "colab_type": "text"
      },
      "source": [
        "### Handling missing data in CABIN column"
      ]
    },
    {
      "cell_type": "code",
      "metadata": {
        "id": "KcwIIIYYsHvZ",
        "colab_type": "code",
        "outputId": "30a1f9e4-2a2a-4d10-e577-d16f1c30c89f",
        "colab": {
          "base_uri": "https://localhost:8080/",
          "height": 238
        }
      },
      "source": [
        "print(\"Handling missing values in Cabin column:\\n\",X['Cabin'].head())\n",
        "print('\\nNulls initially in Cabin column: ',X['Cabin'].isna().sum())\n",
        "print('Null percentage in total column: ',(X['Cabin'].isna().sum()/len(X['Cabin'])*100))\n",
        "#Dropping 'Cabin' column as it mostly contains missig values\n",
        "print(\"\\nShape of train data before dropping Cabin: \",X.shape)\n",
        "X.drop(columns='Cabin',inplace=True)\n",
        "print(\"Shape of train data After dropping Cabin: \",X.shape)"
      ],
      "execution_count": 6,
      "outputs": [
        {
          "output_type": "stream",
          "text": [
            "Handling missing values in Cabin column:\n",
            " 0     NaN\n",
            "1     C85\n",
            "2     NaN\n",
            "3    C123\n",
            "4     NaN\n",
            "Name: Cabin, dtype: object\n",
            "\n",
            "Nulls initially in Cabin column:  687\n",
            "Null percentage in total column:  77.10437710437711\n",
            "\n",
            "Shape of train data before dropping Cabin:  (891, 10)\n",
            "Shape of train data After dropping Cabin:  (891, 9)\n"
          ],
          "name": "stdout"
        }
      ]
    },
    {
      "cell_type": "markdown",
      "metadata": {
        "id": "sjeaLbYNr6EW",
        "colab_type": "text"
      },
      "source": [
        "### Handling missing data in EMBARKED column"
      ]
    },
    {
      "cell_type": "code",
      "metadata": {
        "id": "5swHdQT3x6Qr",
        "colab_type": "code",
        "outputId": "4b4a4bbd-16e6-46ae-f886-16efe909e0f7",
        "colab": {
          "base_uri": "https://localhost:8080/",
          "height": 204
        }
      },
      "source": [
        "print(\"\\nHandling missing values in Embarked column:\\n\",X['Embarked'].head())\n",
        "print('Unique values in Embarked: ',X['Embarked'].unique())\n",
        "print('Nulls initially in Embarked: ',X['Embarked'].isna().sum())\n",
        "# replacing missing values with most frequent values\n",
        "most_freq = X['Embarked'].value_counts().index[0]\n",
        "X['Embarked'].fillna((most_freq), inplace=True)\n",
        "print('After handling: ',X['Embarked'].isna().sum())"
      ],
      "execution_count": 7,
      "outputs": [
        {
          "output_type": "stream",
          "text": [
            "\n",
            "Handling missing values in Embarked column:\n",
            " 0    S\n",
            "1    C\n",
            "2    S\n",
            "3    S\n",
            "4    S\n",
            "Name: Embarked, dtype: object\n",
            "Unique values in Embarked:  ['S' 'C' 'Q' nan]\n",
            "Nulls initially in Embarked:  2\n",
            "After handling:  0\n"
          ],
          "name": "stdout"
        }
      ]
    },
    {
      "cell_type": "markdown",
      "metadata": {
        "id": "ceFmKxyA7WQQ",
        "colab_type": "text"
      },
      "source": [
        "## Handling Categorical Data"
      ]
    },
    {
      "cell_type": "code",
      "metadata": {
        "id": "_zXIPyaB7WjK",
        "colab_type": "code",
        "outputId": "0138df92-868e-4806-e9f9-7bfb93246438",
        "colab": {
          "base_uri": "https://localhost:8080/",
          "height": 34
        }
      },
      "source": [
        "print('Categorical columns in data are:',list(X.loc[:,X.dtypes==object].columns))\n",
        "# print(df[[\"RM\",\"LSTAT\"]].corr())"
      ],
      "execution_count": 8,
      "outputs": [
        {
          "output_type": "stream",
          "text": [
            "Categorical columns in data are: ['Name', 'Sex', 'Ticket', 'Embarked']\n"
          ],
          "name": "stdout"
        }
      ]
    },
    {
      "cell_type": "markdown",
      "metadata": {
        "id": "_U1OfFXU8-HB",
        "colab_type": "text"
      },
      "source": [
        "### Handling NAME column"
      ]
    },
    {
      "cell_type": "code",
      "metadata": {
        "id": "9MsAoAfl9ZQa",
        "colab_type": "code",
        "outputId": "fa5cb467-d2ad-4f7f-b12b-e03f82b3347c",
        "colab": {
          "base_uri": "https://localhost:8080/",
          "height": 68
        }
      },
      "source": [
        "print('Number of unique values in this column: ',len(np.unique(X['Name'])))\n",
        "#One Hot Encoding here is meaning less and a person's name cannot be related to his survival\n",
        "print('Before dropping Name coulmn, shape of train data:',X.shape)\n",
        "X.drop(columns='Name',inplace=True)\n",
        "print('After dropping Name coulmn, shape of train data:',X.shape)"
      ],
      "execution_count": 9,
      "outputs": [
        {
          "output_type": "stream",
          "text": [
            "Number of unique values in this column:  891\n",
            "Before dropping Name coulmn, shape of train data: (891, 9)\n",
            "After dropping Name coulmn, shape of train data: (891, 8)\n"
          ],
          "name": "stdout"
        }
      ]
    },
    {
      "cell_type": "markdown",
      "metadata": {
        "id": "A7a1n-DJ8_ET",
        "colab_type": "text"
      },
      "source": [
        "### Handling SEX column"
      ]
    },
    {
      "cell_type": "code",
      "metadata": {
        "id": "tEx-lB8F_4HV",
        "colab_type": "code",
        "outputId": "57732b6f-9247-43c7-92e1-1a35bac50869",
        "colab": {
          "base_uri": "https://localhost:8080/",
          "height": 51
        }
      },
      "source": [
        "print('Unique values in this column with categorical values: ',np.unique(X['Sex']))\n",
        "#We replace female with 1 and male with 0\n",
        "def male_female(x):\n",
        "  if x == 'male':\n",
        "    return 0\n",
        "  if x == 'female':\n",
        "    return 1\n",
        "X['Sex'] = X['Sex'].apply(male_female)\n",
        "print('Unique values in this column with numeric values: ',np.unique(X['Sex']))"
      ],
      "execution_count": 10,
      "outputs": [
        {
          "output_type": "stream",
          "text": [
            "Unique values in this column with categorical values:  ['female' 'male']\n",
            "Unique values in this column with numeric values:  [0 1]\n"
          ],
          "name": "stdout"
        }
      ]
    },
    {
      "cell_type": "markdown",
      "metadata": {
        "id": "olUldC0v8_QW",
        "colab_type": "text"
      },
      "source": [
        "### Handling TICKET column"
      ]
    },
    {
      "cell_type": "code",
      "metadata": {
        "id": "aQ-K6VGFTbHk",
        "colab_type": "code",
        "outputId": "8b5485ba-6b66-43d6-edc9-f6e43c6743d1",
        "colab": {
          "base_uri": "https://localhost:8080/",
          "height": 68
        }
      },
      "source": [
        "print('Number of unique values in this column: ',len(np.unique(X['Ticket'])))\n",
        "#One Hot Encoding here is meaning less and a person's Ticket number cannot be related to his survival\n",
        "print('Before dropping Ticket coulmn, shape of train data:',X.shape)\n",
        "X.drop(columns='Ticket',inplace=True)\n",
        "print('After dropping Ticket coulmn, shape of train data:',X.shape)"
      ],
      "execution_count": 11,
      "outputs": [
        {
          "output_type": "stream",
          "text": [
            "Number of unique values in this column:  681\n",
            "Before dropping Ticket coulmn, shape of train data: (891, 8)\n",
            "After dropping Ticket coulmn, shape of train data: (891, 7)\n"
          ],
          "name": "stdout"
        }
      ]
    },
    {
      "cell_type": "markdown",
      "metadata": {
        "id": "VBGPiKmU8_bX",
        "colab_type": "text"
      },
      "source": [
        "### Handling EMBARKED column"
      ]
    },
    {
      "cell_type": "code",
      "metadata": {
        "id": "_oQK1SFwUzKw",
        "colab_type": "code",
        "outputId": "3e8c49fc-4b01-4044-a5a0-ac7c1dd7ed03",
        "colab": {
          "base_uri": "https://localhost:8080/",
          "height": 85
        }
      },
      "source": [
        "print('Unique values in this column with categorical values: ',np.unique(X['Embarked']))\n",
        "#One Hot Encoding the column\n",
        "X = pd.get_dummies(X,columns=['Embarked'])\n",
        "print('Additional columns added: ',list(X.columns[-3:]))\n",
        "print('Before dropping one of the additional coulmns, shape of train data:',X.shape)\n",
        "X.drop(columns='Embarked_Q', inplace=True) #dummy variable trap\n",
        "print('After dropping one of the additional coulmns, shape of train data:',X.shape)"
      ],
      "execution_count": 12,
      "outputs": [
        {
          "output_type": "stream",
          "text": [
            "Unique values in this column with categorical values:  ['C' 'Q' 'S']\n",
            "Additional columns added:  ['Embarked_C', 'Embarked_Q', 'Embarked_S']\n",
            "Before dropping one of the additional coulmns, shape of train data: (891, 9)\n",
            "After dropping one of the additional coulmns, shape of train data: (891, 8)\n"
          ],
          "name": "stdout"
        }
      ]
    },
    {
      "cell_type": "markdown",
      "metadata": {
        "id": "hKxBSzEwC6dA",
        "colab_type": "text"
      },
      "source": [
        "## Feature Engineering"
      ]
    },
    {
      "cell_type": "code",
      "metadata": {
        "id": "k50EYusuC62q",
        "colab_type": "code",
        "colab": {
          "base_uri": "https://localhost:8080/",
          "height": 394
        },
        "outputId": "aa513886-02e7-4dab-c695-f8dd412822f1"
      },
      "source": [
        "print(X.shape)\n",
        "X['Family'] = X['Parch'] + X['SibSp']\n",
        "# X['Family'] = (X[\"Family\"] == 0)\n",
        "X.drop(columns=['Parch','SibSp'],inplace=True)\n",
        "print(min(X['Age']),max(X['Age']))\n",
        "\n",
        "baby = 1\n",
        "child = 2\n",
        "adult = 3\n",
        "old = 4\n",
        "for i in range(len(X['Age'])):\n",
        "  if( X['Age'][i] > 0 and X['Age'][i] <= 5 ):\n",
        "    X['Age'][i] = baby\n",
        "  elif( X['Age'][i]>5 and X['Age'][i] <= 20 ):\n",
        "    X['Age'][i] = child\n",
        "  elif( X['Age'][i]>20 and X['Age'][i] <= 50):\n",
        "    X['Age'][i] = adult\n",
        "  else:\n",
        "    X['Age'][i] = old\n",
        "\n",
        "\n",
        "# X = pd.get_dummies(X,columns=['Age'])\n",
        "# print('Additional columns added: ',list(X.columns[-4:]))\n",
        "# print('Before dropping one of the additional coulmns, shape of train data:',X.shape)\n",
        "# X.drop(columns='Age_1.0', inplace=True) #dummy variable trap\n",
        "# print('After dropping one of the additional coulmns, shape of train data:',X.shape)\n",
        "\n",
        "# print(X['Age'].head(25))\n",
        "print(X.shape)"
      ],
      "execution_count": 13,
      "outputs": [
        {
          "output_type": "stream",
          "text": [
            "(891, 8)\n",
            "0.42 80.0\n",
            "(891, 7)\n"
          ],
          "name": "stdout"
        },
        {
          "output_type": "stream",
          "text": [
            "/usr/local/lib/python3.6/dist-packages/ipykernel_launcher.py:17: SettingWithCopyWarning: \n",
            "A value is trying to be set on a copy of a slice from a DataFrame\n",
            "\n",
            "See the caveats in the documentation: https://pandas.pydata.org/pandas-docs/stable/user_guide/indexing.html#returning-a-view-versus-a-copy\n",
            "/usr/local/lib/python3.6/dist-packages/ipykernel_launcher.py:19: SettingWithCopyWarning: \n",
            "A value is trying to be set on a copy of a slice from a DataFrame\n",
            "\n",
            "See the caveats in the documentation: https://pandas.pydata.org/pandas-docs/stable/user_guide/indexing.html#returning-a-view-versus-a-copy\n",
            "/usr/local/lib/python3.6/dist-packages/ipykernel_launcher.py:13: SettingWithCopyWarning: \n",
            "A value is trying to be set on a copy of a slice from a DataFrame\n",
            "\n",
            "See the caveats in the documentation: https://pandas.pydata.org/pandas-docs/stable/user_guide/indexing.html#returning-a-view-versus-a-copy\n",
            "  del sys.path[0]\n",
            "/usr/local/lib/python3.6/dist-packages/ipykernel_launcher.py:15: SettingWithCopyWarning: \n",
            "A value is trying to be set on a copy of a slice from a DataFrame\n",
            "\n",
            "See the caveats in the documentation: https://pandas.pydata.org/pandas-docs/stable/user_guide/indexing.html#returning-a-view-versus-a-copy\n",
            "  from ipykernel import kernelapp as app\n"
          ],
          "name": "stderr"
        }
      ]
    },
    {
      "cell_type": "markdown",
      "metadata": {
        "id": "J9PkalegtBRg",
        "colab_type": "text"
      },
      "source": [
        "## Exploratory Data Analysis"
      ]
    },
    {
      "cell_type": "markdown",
      "metadata": {
        "id": "7x9O1tSPwxI0",
        "colab_type": "text"
      },
      "source": [
        "### How each independent feature is correlated with the dependent feature?"
      ]
    },
    {
      "cell_type": "code",
      "metadata": {
        "id": "rnOHGnLVYXDj",
        "colab_type": "code",
        "outputId": "2c53aa66-8ec2-4281-b673-a706415d0a6b",
        "colab": {
          "base_uri": "https://localhost:8080/",
          "height": 265
        }
      },
      "source": [
        "# # plt.scatter(y,X['Sex'])\n",
        "# # plt.scatter(y,X['Embarked_C'])\n",
        "fig = plt.figure()\n",
        "for i in range(0,4):\n",
        "  plt.subplot(2, 2, i+1)\n",
        "  plt.scatter(y, X[X.columns[i]])\n",
        "plt.show()"
      ],
      "execution_count": 14,
      "outputs": [
        {
          "output_type": "display_data",
          "data": {
            "image/png": "[encoded data removed]",
            "text/plain": [
              "<Figure size 432x288 with 4 Axes>"
            ]
          },
          "metadata": {
            "tags": [],
            "needs_background": "light"
          }
        }
      ]
    },
    {
      "cell_type": "code",
      "metadata": {
        "id": "BaKR6g5MdgBV",
        "colab_type": "code",
        "outputId": "c8022235-9c71-4d2c-d434-be84bca1af4d",
        "colab": {
          "base_uri": "https://localhost:8080/",
          "height": 279
        }
      },
      "source": [
        "for i in range(4,7):\n",
        "  plt.subplot(2, 2, i-3)\n",
        "  plt.xlabel(X.columns[i])\n",
        "  plt.scatter(y, X[X.columns[i]])\n",
        "plt.show()"
      ],
      "execution_count": 15,
      "outputs": [
        {
          "output_type": "display_data",
          "data": {
            "image/png": "[encoded data removed]",
            "text/plain": [
              "<Figure size 432x288 with 3 Axes>"
            ]
          },
          "metadata": {
            "tags": [],
            "needs_background": "light"
          }
        }
      ]
    },
    {
      "cell_type": "markdown",
      "metadata": {
        "id": "mFO5A-wSYY0-",
        "colab_type": "text"
      },
      "source": [
        "### Correlation Heat Map"
      ]
    },
    {
      "cell_type": "code",
      "metadata": {
        "id": "PgRmuseLxHYf",
        "colab_type": "code",
        "outputId": "983c8190-3f09-4ab4-af14-fb7db21c19b7",
        "colab": {
          "base_uri": "https://localhost:8080/",
          "height": 409
        }
      },
      "source": [
        "import seaborn as sns\n",
        "print(X.shape)\n",
        "joined = X.join([y])\n",
        "corr_data = joined.corr()\n",
        "sns.heatmap(corr_data)"
      ],
      "execution_count": 16,
      "outputs": [
        {
          "output_type": "stream",
          "text": [
            "(891, 7)\n"
          ],
          "name": "stdout"
        },
        {
          "output_type": "stream",
          "text": [
            "/usr/local/lib/python3.6/dist-packages/statsmodels/tools/_testing.py:19: FutureWarning: pandas.util.testing is deprecated. Use the functions in the public API at pandas.testing instead.\n",
            "  import pandas.util.testing as tm\n"
          ],
          "name": "stderr"
        },
        {
          "output_type": "execute_result",
          "data": {
            "text/plain": [
              "<matplotlib.axes._subplots.AxesSubplot at 0x7f04ae517c18>"
            ]
          },
          "metadata": {
            "tags": []
          },
          "execution_count": 16
        },
        {
          "output_type": "display_data",
          "data": {
            "image/png": "[encoded data removed]",
            "text/plain": [
              "<Figure size 432x288 with 2 Axes>"
            ]
          },
          "metadata": {
            "tags": [],
            "needs_background": "light"
          }
        }
      ]
    },
    {
      "cell_type": "markdown",
      "metadata": {
        "id": "RduJ7n8ekMDH",
        "colab_type": "text"
      },
      "source": [
        "## Feature Scaling"
      ]
    },
    {
      "cell_type": "code",
      "metadata": {
        "id": "kXy8FnUhlel_",
        "colab_type": "code",
        "outputId": "f7591941-cc2b-42ff-c89d-02af8d333696",
        "colab": {
          "base_uri": "https://localhost:8080/",
          "height": 850
        }
      },
      "source": [
        "for i in range(0,len(X.columns)):\n",
        "  print(X.columns[i],'\\n',X[X.columns[i]].head())"
      ],
      "execution_count": 17,
      "outputs": [
        {
          "output_type": "stream",
          "text": [
            "Pclass \n",
            " 0    3\n",
            "1    1\n",
            "2    3\n",
            "3    1\n",
            "4    3\n",
            "Name: Pclass, dtype: int64\n",
            "Sex \n",
            " 0    0\n",
            "1    1\n",
            "2    1\n",
            "3    1\n",
            "4    0\n",
            "Name: Sex, dtype: int64\n",
            "Age \n",
            " 0    3.0\n",
            "1    3.0\n",
            "2    3.0\n",
            "3    3.0\n",
            "4    3.0\n",
            "Name: Age, dtype: float64\n",
            "Fare \n",
            " 0     7.2500\n",
            "1    71.2833\n",
            "2     7.9250\n",
            "3    53.1000\n",
            "4     8.0500\n",
            "Name: Fare, dtype: float64\n",
            "Embarked_C \n",
            " 0    0\n",
            "1    1\n",
            "2    0\n",
            "3    0\n",
            "4    0\n",
            "Name: Embarked_C, dtype: uint8\n",
            "Embarked_S \n",
            " 0    1\n",
            "1    0\n",
            "2    1\n",
            "3    1\n",
            "4    1\n",
            "Name: Embarked_S, dtype: uint8\n",
            "Family \n",
            " 0    1\n",
            "1    1\n",
            "2    0\n",
            "3    1\n",
            "4    0\n",
            "Name: Family, dtype: int64\n"
          ],
          "name": "stdout"
        }
      ]
    },
    {
      "cell_type": "code",
      "metadata": {
        "id": "3HM6MuWbmi1b",
        "colab_type": "code",
        "colab": {
          "base_uri": "https://localhost:8080/",
          "height": 204
        },
        "outputId": "e0858c46-f31b-456e-8ccf-8c1f7589e9f4"
      },
      "source": [
        "#Columns to be feature scaled are FARE and AGE\n",
        "from sklearn.preprocessing import StandardScaler\n",
        "scaler = StandardScaler()\n",
        "\n",
        "X[['Age','Fare']] = scaler.fit_transform(X[['Age','Fare']])\n",
        "# X[['Fare']] = scaler.fit_transform(X[['Fare']])\n",
        "#print(min(X['Age']),max(X['Age']),min(X['Fare']),max(X['Fare']))\n",
        "\n",
        "X.head()"
      ],
      "execution_count": 18,
      "outputs": [
        {
          "output_type": "execute_result",
          "data": {
            "text/html": [
              "<div>\n",
              "<style scoped>\n",
              "    .dataframe tbody tr th:only-of-type {\n",
              "        vertical-align: middle;\n",
              "    }\n",
              "\n",
              "    .dataframe tbody tr th {\n",
              "        vertical-align: top;\n",
              "    }\n",
              "\n",
              "    .dataframe thead th {\n",
              "        text-align: right;\n",
              "    }\n",
              "</style>\n",
              "<table border=\"1\" class=\"dataframe\">\n",
              "  <thead>\n",
              "    <tr style=\"text-align: right;\">\n",
              "      <th></th>\n",
              "      <th>Pclass</th>\n",
              "      <th>Sex</th>\n",
              "      <th>Age</th>\n",
              "      <th>Fare</th>\n",
              "      <th>Embarked_C</th>\n",
              "      <th>Embarked_S</th>\n",
              "      <th>Family</th>\n",
              "    </tr>\n",
              "  </thead>\n",
              "  <tbody>\n",
              "    <tr>\n",
              "      <th>0</th>\n",
              "      <td>3</td>\n",
              "      <td>0</td>\n",
              "      <td>0.327364</td>\n",
              "      <td>-0.502445</td>\n",
              "      <td>0</td>\n",
              "      <td>1</td>\n",
              "      <td>1</td>\n",
              "    </tr>\n",
              "    <tr>\n",
              "      <th>1</th>\n",
              "      <td>1</td>\n",
              "      <td>1</td>\n",
              "      <td>0.327364</td>\n",
              "      <td>0.786845</td>\n",
              "      <td>1</td>\n",
              "      <td>0</td>\n",
              "      <td>1</td>\n",
              "    </tr>\n",
              "    <tr>\n",
              "      <th>2</th>\n",
              "      <td>3</td>\n",
              "      <td>1</td>\n",
              "      <td>0.327364</td>\n",
              "      <td>-0.488854</td>\n",
              "      <td>0</td>\n",
              "      <td>1</td>\n",
              "      <td>0</td>\n",
              "    </tr>\n",
              "    <tr>\n",
              "      <th>3</th>\n",
              "      <td>1</td>\n",
              "      <td>1</td>\n",
              "      <td>0.327364</td>\n",
              "      <td>0.420730</td>\n",
              "      <td>0</td>\n",
              "      <td>1</td>\n",
              "      <td>1</td>\n",
              "    </tr>\n",
              "    <tr>\n",
              "      <th>4</th>\n",
              "      <td>3</td>\n",
              "      <td>0</td>\n",
              "      <td>0.327364</td>\n",
              "      <td>-0.486337</td>\n",
              "      <td>0</td>\n",
              "      <td>1</td>\n",
              "      <td>0</td>\n",
              "    </tr>\n",
              "  </tbody>\n",
              "</table>\n",
              "</div>"
            ],
            "text/plain": [
              "   Pclass  Sex       Age      Fare  Embarked_C  Embarked_S  Family\n",
              "0       3    0  0.327364 -0.502445           0           1       1\n",
              "1       1    1  0.327364  0.786845           1           0       1\n",
              "2       3    1  0.327364 -0.488854           0           1       0\n",
              "3       1    1  0.327364  0.420730           0           1       1\n",
              "4       3    0  0.327364 -0.486337           0           1       0"
            ]
          },
          "metadata": {
            "tags": []
          },
          "execution_count": 18
        }
      ]
    },
    {
      "cell_type": "markdown",
      "metadata": {
        "id": "eKIaNzMTsZYq",
        "colab_type": "text"
      },
      "source": [
        "## Splitting train and test data"
      ]
    },
    {
      "cell_type": "code",
      "metadata": {
        "id": "AbAmo8a1saFk",
        "colab_type": "code",
        "colab": {}
      },
      "source": [
        "from sklearn.model_selection import train_test_split\n",
        "X_train, X_test, y_train, y_test = train_test_split(X, y, test_size=0.2, random_state=0)"
      ],
      "execution_count": 0,
      "outputs": []
    },
    {
      "cell_type": "markdown",
      "metadata": {
        "id": "cg-L3jtEtKzM",
        "colab_type": "text"
      },
      "source": [
        "## Training, Testing and evaluating the model using various algorithms"
      ]
    },
    {
      "cell_type": "markdown",
      "metadata": {
        "id": "zreR13jEtvxC",
        "colab_type": "text"
      },
      "source": [
        "### 1. Logistic Regression"
      ]
    },
    {
      "cell_type": "code",
      "metadata": {
        "id": "NdIikvkdvqrY",
        "colab_type": "code",
        "outputId": "ab4c355b-fcfb-4164-9381-d2fc2e8b0e7a",
        "colab": {
          "base_uri": "https://localhost:8080/",
          "height": 156
        }
      },
      "source": [
        "#Training\n",
        "from sklearn.linear_model import LogisticRegression\n",
        "classifier1 = LogisticRegression(solver='newton-cg')\n",
        "classifier1.fit(X_train, y_train)"
      ],
      "execution_count": 20,
      "outputs": [
        {
          "output_type": "stream",
          "text": [
            "/usr/local/lib/python3.6/dist-packages/sklearn/utils/validation.py:760: DataConversionWarning: A column-vector y was passed when a 1d array was expected. Please change the shape of y to (n_samples, ), for example using ravel().\n",
            "  y = column_or_1d(y, warn=True)\n"
          ],
          "name": "stderr"
        },
        {
          "output_type": "execute_result",
          "data": {
            "text/plain": [
              "LogisticRegression(C=1.0, class_weight=None, dual=False, fit_intercept=True,\n",
              "                   intercept_scaling=1, l1_ratio=None, max_iter=100,\n",
              "                   multi_class='auto', n_jobs=None, penalty='l2',\n",
              "                   random_state=None, solver='newton-cg', tol=0.0001, verbose=0,\n",
              "                   warm_start=False)"
            ]
          },
          "metadata": {
            "tags": []
          },
          "execution_count": 20
        }
      ]
    },
    {
      "cell_type": "code",
      "metadata": {
        "id": "-qN7mKTMvqye",
        "colab_type": "code",
        "colab": {}
      },
      "source": [
        "#Testing\n",
        "y_pred1 = classifier1.predict(X_test)"
      ],
      "execution_count": 0,
      "outputs": []
    },
    {
      "cell_type": "code",
      "metadata": {
        "id": "qKQk1d7mvq6a",
        "colab_type": "code",
        "outputId": "689a01bf-7cdb-46a8-8731-2cd8c5e2ac0c",
        "colab": {
          "base_uri": "https://localhost:8080/",
          "height": 68
        }
      },
      "source": [
        "#Evaluation\n",
        "from sklearn.metrics import confusion_matrix, accuracy_score\n",
        "cm = confusion_matrix(y_test, y_pred1)\n",
        "print(cm)\n",
        "print(\"Score: \",accuracy_score(y_test, y_pred1))\n",
        "\n",
        "acc_dict = {}\n",
        "acc_dict['LogisticRegression'] = accuracy_score(y_test, y_pred1)"
      ],
      "execution_count": 22,
      "outputs": [
        {
          "output_type": "stream",
          "text": [
            "[[96 14]\n",
            " [23 46]]\n",
            "Score:  0.7932960893854749\n"
          ],
          "name": "stdout"
        }
      ]
    },
    {
      "cell_type": "markdown",
      "metadata": {
        "id": "Btwf1zhuuPDo",
        "colab_type": "text"
      },
      "source": [
        "### 2. KNearest neighbors classifier"
      ]
    },
    {
      "cell_type": "code",
      "metadata": {
        "id": "u98JlaU-xDKb",
        "colab_type": "code",
        "outputId": "d86e7fdf-fb90-4bd0-a1f4-7b2ba24e9250",
        "colab": {
          "base_uri": "https://localhost:8080/",
          "height": 122
        }
      },
      "source": [
        "#Training\n",
        "from sklearn.neighbors import KNeighborsClassifier\n",
        "classifier2 = KNeighborsClassifier(n_neighbors = 5, metric = 'minkowski', p=2)\n",
        "classifier2.fit(X_train, y_train)"
      ],
      "execution_count": 23,
      "outputs": [
        {
          "output_type": "stream",
          "text": [
            "/usr/local/lib/python3.6/dist-packages/ipykernel_launcher.py:4: DataConversionWarning: A column-vector y was passed when a 1d array was expected. Please change the shape of y to (n_samples, ), for example using ravel().\n",
            "  after removing the cwd from sys.path.\n"
          ],
          "name": "stderr"
        },
        {
          "output_type": "execute_result",
          "data": {
            "text/plain": [
              "KNeighborsClassifier(algorithm='auto', leaf_size=30, metric='minkowski',\n",
              "                     metric_params=None, n_jobs=None, n_neighbors=5, p=2,\n",
              "                     weights='uniform')"
            ]
          },
          "metadata": {
            "tags": []
          },
          "execution_count": 23
        }
      ]
    },
    {
      "cell_type": "code",
      "metadata": {
        "id": "ztJUiXi8xDPO",
        "colab_type": "code",
        "colab": {}
      },
      "source": [
        "#Testing\n",
        "y_pred2 = classifier2.predict(X_test)"
      ],
      "execution_count": 0,
      "outputs": []
    },
    {
      "cell_type": "code",
      "metadata": {
        "id": "S4HrVMySxDVq",
        "colab_type": "code",
        "outputId": "2bb232e7-27cf-4f1c-8237-c24f4760ea7a",
        "colab": {
          "base_uri": "https://localhost:8080/",
          "height": 68
        }
      },
      "source": [
        "#Evaluation\n",
        "cm = confusion_matrix(y_test, y_pred2)\n",
        "print(cm)\n",
        "print(\"Score: \",accuracy_score(y_test, y_pred2))\n",
        "\n",
        "acc_dict['KNN'] = accuracy_score(y_test, y_pred2)"
      ],
      "execution_count": 25,
      "outputs": [
        {
          "output_type": "stream",
          "text": [
            "[[101   9]\n",
            " [ 24  45]]\n",
            "Score:  0.8156424581005587\n"
          ],
          "name": "stdout"
        }
      ]
    },
    {
      "cell_type": "markdown",
      "metadata": {
        "id": "5j-2OQ1XuPc7",
        "colab_type": "text"
      },
      "source": [
        "### 3. Support Vector Machine(linear kernel)"
      ]
    },
    {
      "cell_type": "code",
      "metadata": {
        "id": "KukeMj9axcTB",
        "colab_type": "code",
        "outputId": "c44017a3-fe73-4d14-82db-5266fa76fd13",
        "colab": {
          "base_uri": "https://localhost:8080/",
          "height": 139
        }
      },
      "source": [
        "from sklearn.svm import SVC\n",
        "classifier3 = SVC(kernel = 'rbf',degree = 5)\n",
        "classifier3.fit(X_train, y_train)"
      ],
      "execution_count": 42,
      "outputs": [
        {
          "output_type": "stream",
          "text": [
            "/usr/local/lib/python3.6/dist-packages/sklearn/utils/validation.py:760: DataConversionWarning: A column-vector y was passed when a 1d array was expected. Please change the shape of y to (n_samples, ), for example using ravel().\n",
            "  y = column_or_1d(y, warn=True)\n"
          ],
          "name": "stderr"
        },
        {
          "output_type": "execute_result",
          "data": {
            "text/plain": [
              "SVC(C=1.0, break_ties=False, cache_size=200, class_weight=None, coef0=0.0,\n",
              "    decision_function_shape='ovr', degree=5, gamma='scale', kernel='rbf',\n",
              "    max_iter=-1, probability=False, random_state=None, shrinking=True,\n",
              "    tol=0.001, verbose=False)"
            ]
          },
          "metadata": {
            "tags": []
          },
          "execution_count": 42
        }
      ]
    },
    {
      "cell_type": "code",
      "metadata": {
        "id": "G0gQP_xvxcXY",
        "colab_type": "code",
        "colab": {}
      },
      "source": [
        "#Testing\n",
        "y_pred3 = classifier3.predict(X_test)"
      ],
      "execution_count": 0,
      "outputs": []
    },
    {
      "cell_type": "code",
      "metadata": {
        "id": "28kVuQvExca-",
        "colab_type": "code",
        "outputId": "d00cd195-b0f4-4de5-9cf3-312da5052c25",
        "colab": {
          "base_uri": "https://localhost:8080/",
          "height": 68
        }
      },
      "source": [
        "#Evaluation\n",
        "cm = confusion_matrix(y_test, y_pred3)\n",
        "print(cm)\n",
        "print(\"Score: \",accuracy_score(y_test, y_pred3))\n",
        "\n",
        "acc_dict['SVC'] = accuracy_score(y_test, y_pred3)"
      ],
      "execution_count": 44,
      "outputs": [
        {
          "output_type": "stream",
          "text": [
            "[[96 14]\n",
            " [19 50]]\n",
            "Score:  0.8156424581005587\n"
          ],
          "name": "stdout"
        }
      ]
    },
    {
      "cell_type": "markdown",
      "metadata": {
        "id": "7yFIs2UJuPm3",
        "colab_type": "text"
      },
      "source": [
        "### 4. Naive Bayes classifier"
      ]
    },
    {
      "cell_type": "code",
      "metadata": {
        "id": "-WxR0MU7xgJV",
        "colab_type": "code",
        "outputId": "5e8e6651-c952-4dd5-969c-572720abfa95",
        "colab": {
          "base_uri": "https://localhost:8080/",
          "height": 88
        }
      },
      "source": [
        "from sklearn.naive_bayes import GaussianNB\n",
        "classifier4 = GaussianNB()\n",
        "classifier4.fit(X_train, y_train)"
      ],
      "execution_count": 29,
      "outputs": [
        {
          "output_type": "stream",
          "text": [
            "/usr/local/lib/python3.6/dist-packages/sklearn/naive_bayes.py:206: DataConversionWarning: A column-vector y was passed when a 1d array was expected. Please change the shape of y to (n_samples, ), for example using ravel().\n",
            "  y = column_or_1d(y, warn=True)\n"
          ],
          "name": "stderr"
        },
        {
          "output_type": "execute_result",
          "data": {
            "text/plain": [
              "GaussianNB(priors=None, var_smoothing=1e-09)"
            ]
          },
          "metadata": {
            "tags": []
          },
          "execution_count": 29
        }
      ]
    },
    {
      "cell_type": "code",
      "metadata": {
        "id": "cQjQ7S7txgOQ",
        "colab_type": "code",
        "colab": {}
      },
      "source": [
        "#Testing\n",
        "y_pred4 = classifier4.predict(X_test)"
      ],
      "execution_count": 0,
      "outputs": []
    },
    {
      "cell_type": "code",
      "metadata": {
        "id": "ht7SIQICxgTC",
        "colab_type": "code",
        "outputId": "c0c5b42f-e07b-4760-f94a-1f441d08833c",
        "colab": {
          "base_uri": "https://localhost:8080/",
          "height": 68
        }
      },
      "source": [
        "#Evaluation\n",
        "cm = confusion_matrix(y_test, y_pred4)\n",
        "print(cm)\n",
        "print(\"Score: \",accuracy_score(y_test, y_pred4))\n",
        "\n",
        "acc_dict['GaussianNB'] = accuracy_score(y_test, y_pred4)"
      ],
      "execution_count": 31,
      "outputs": [
        {
          "output_type": "stream",
          "text": [
            "[[93 17]\n",
            " [17 52]]\n",
            "Score:  0.8100558659217877\n"
          ],
          "name": "stdout"
        }
      ]
    },
    {
      "cell_type": "markdown",
      "metadata": {
        "id": "SsJCihJzuPvQ",
        "colab_type": "text"
      },
      "source": [
        "### 5. Decision Tree classifier"
      ]
    },
    {
      "cell_type": "code",
      "metadata": {
        "id": "pZE40B_FxjMk",
        "colab_type": "code",
        "outputId": "ba17fcd0-5e1f-498e-b2cf-0f6530b48e2a",
        "colab": {
          "base_uri": "https://localhost:8080/",
          "height": 119
        }
      },
      "source": [
        "from sklearn.tree import DecisionTreeClassifier\n",
        "classifier5 = DecisionTreeClassifier(criterion = 'entropy')\n",
        "classifier5.fit(X_train, y_train)"
      ],
      "execution_count": 32,
      "outputs": [
        {
          "output_type": "execute_result",
          "data": {
            "text/plain": [
              "DecisionTreeClassifier(ccp_alpha=0.0, class_weight=None, criterion='entropy',\n",
              "                       max_depth=None, max_features=None, max_leaf_nodes=None,\n",
              "                       min_impurity_decrease=0.0, min_impurity_split=None,\n",
              "                       min_samples_leaf=1, min_samples_split=2,\n",
              "                       min_weight_fraction_leaf=0.0, presort='deprecated',\n",
              "                       random_state=None, splitter='best')"
            ]
          },
          "metadata": {
            "tags": []
          },
          "execution_count": 32
        }
      ]
    },
    {
      "cell_type": "code",
      "metadata": {
        "id": "mATkMorLxjRw",
        "colab_type": "code",
        "colab": {}
      },
      "source": [
        "#Testing\n",
        "y_pred5 = classifier5.predict(X_test)"
      ],
      "execution_count": 0,
      "outputs": []
    },
    {
      "cell_type": "code",
      "metadata": {
        "id": "0nUCa4RaxjXs",
        "colab_type": "code",
        "outputId": "28054a1e-d152-4b39-a6ed-152019f8e046",
        "colab": {
          "base_uri": "https://localhost:8080/",
          "height": 68
        }
      },
      "source": [
        "#Evaluation\n",
        "cm = confusion_matrix(y_test, y_pred5)\n",
        "print(cm)\n",
        "print(\"Score: \",accuracy_score(y_test, y_pred5))\n",
        "\n",
        "acc_dict['DecisionTree'] = accuracy_score(y_test, y_pred5)"
      ],
      "execution_count": 34,
      "outputs": [
        {
          "output_type": "stream",
          "text": [
            "[[98 12]\n",
            " [19 50]]\n",
            "Score:  0.8268156424581006\n"
          ],
          "name": "stdout"
        }
      ]
    },
    {
      "cell_type": "markdown",
      "metadata": {
        "id": "GeV0QbhMuP3y",
        "colab_type": "text"
      },
      "source": [
        "### 6. Random Forest classifier"
      ]
    },
    {
      "cell_type": "code",
      "metadata": {
        "id": "emvRiY-uxmT6",
        "colab_type": "code",
        "outputId": "6faad8fb-fe8a-4514-8026-256ec749ce4a",
        "colab": {
          "base_uri": "https://localhost:8080/",
          "height": 207
        }
      },
      "source": [
        "from sklearn.ensemble import RandomForestClassifier\n",
        "classifier6 = RandomForestClassifier(criterion = 'entropy', n_estimators = 100)\n",
        "classifier6.fit(X_train, y_train)"
      ],
      "execution_count": 35,
      "outputs": [
        {
          "output_type": "stream",
          "text": [
            "/usr/local/lib/python3.6/dist-packages/ipykernel_launcher.py:3: DataConversionWarning: A column-vector y was passed when a 1d array was expected. Please change the shape of y to (n_samples,), for example using ravel().\n",
            "  This is separate from the ipykernel package so we can avoid doing imports until\n"
          ],
          "name": "stderr"
        },
        {
          "output_type": "execute_result",
          "data": {
            "text/plain": [
              "RandomForestClassifier(bootstrap=True, ccp_alpha=0.0, class_weight=None,\n",
              "                       criterion='entropy', max_depth=None, max_features='auto',\n",
              "                       max_leaf_nodes=None, max_samples=None,\n",
              "                       min_impurity_decrease=0.0, min_impurity_split=None,\n",
              "                       min_samples_leaf=1, min_samples_split=2,\n",
              "                       min_weight_fraction_leaf=0.0, n_estimators=100,\n",
              "                       n_jobs=None, oob_score=False, random_state=None,\n",
              "                       verbose=0, warm_start=False)"
            ]
          },
          "metadata": {
            "tags": []
          },
          "execution_count": 35
        }
      ]
    },
    {
      "cell_type": "code",
      "metadata": {
        "id": "8HA15npMxmhX",
        "colab_type": "code",
        "colab": {}
      },
      "source": [
        "#Testing\n",
        "y_pred6 = classifier6.predict(X_test)"
      ],
      "execution_count": 0,
      "outputs": []
    },
    {
      "cell_type": "code",
      "metadata": {
        "id": "UMdzignZxmxp",
        "colab_type": "code",
        "outputId": "cd66e644-8f35-412d-e16a-1a092e5a41c3",
        "colab": {
          "base_uri": "https://localhost:8080/",
          "height": 68
        }
      },
      "source": [
        "#Evaluation\n",
        "cm = confusion_matrix(y_test, y_pred6)\n",
        "print(cm)\n",
        "print(\"Score: \",accuracy_score(y_test, y_pred6))\n",
        "\n",
        "acc_dict['RandomForest'] = accuracy_score(y_test, y_pred6)"
      ],
      "execution_count": 37,
      "outputs": [
        {
          "output_type": "stream",
          "text": [
            "[[98 12]\n",
            " [18 51]]\n",
            "Score:  0.8324022346368715\n"
          ],
          "name": "stdout"
        }
      ]
    },
    {
      "cell_type": "markdown",
      "metadata": {
        "id": "obmnrY5h0Z1X",
        "colab_type": "text"
      },
      "source": [
        "## Model Selection"
      ]
    },
    {
      "cell_type": "code",
      "metadata": {
        "id": "SclUe_2w0aGz",
        "colab_type": "code",
        "outputId": "aee63df8-af8e-483b-b984-8563fd659bcc",
        "colab": {
          "base_uri": "https://localhost:8080/",
          "height": 296
        }
      },
      "source": [
        "log_cols = [\"Classifier\", \"Accuracy\"]\n",
        "log \t = pd.DataFrame(columns=log_cols)\n",
        "clfs = list(acc_dict.keys())\n",
        "for clf in clfs:\n",
        "  log_entry = pd.DataFrame([[clf, acc_dict[clf]]], columns=log_cols)\n",
        "  log = log.append(log_entry)\n",
        "\n",
        "sns.barplot(x='Accuracy', y='Classifier', data=log, color=\"g\")"
      ],
      "execution_count": 38,
      "outputs": [
        {
          "output_type": "execute_result",
          "data": {
            "text/plain": [
              "<matplotlib.axes._subplots.AxesSubplot at 0x7f04a9933da0>"
            ]
          },
          "metadata": {
            "tags": []
          },
          "execution_count": 38
        },
        {
          "output_type": "display_data",
          "data": {
            "image/png": "[encoded data removed]",
            "text/plain": [
              "<Figure size 432x288 with 1 Axes>"
            ]
          },
          "metadata": {
            "tags": [],
            "needs_background": "light"
          }
        }
      ]
    },
    {
      "cell_type": "markdown",
      "metadata": {
        "id": "1fnqGYHj9Y08",
        "colab_type": "text"
      },
      "source": [
        "## Preparing Test data for Prediction"
      ]
    },
    {
      "cell_type": "code",
      "metadata": {
        "id": "bGsASaLe9ZHF",
        "colab_type": "code",
        "outputId": "ccead6ea-e646-4144-fdd7-1db08564e061",
        "colab": {
          "base_uri": "https://localhost:8080/",
          "height": 940
        }
      },
      "source": [
        "pred = pd.read_csv(\"test.csv\")\n",
        "print(pred.isnull().sum())\n",
        "\n",
        "#Handling nulls in AGE column\n",
        "pred['Age'].fillna((pred['Age'].mean()), inplace=True)\n",
        "print('After handling nulls AGE column: ',pred['Age'].isna().sum())\n",
        "\n",
        "#dropping the NAME, TICKET, CABIN and PASSENGERID column\n",
        "print(\"Before dropping NAME, TICKET, CABIN and PassengerId Cols \",pred.shape)\n",
        "pred.drop(columns=['Name','Ticket','PassengerId','Cabin'],inplace=True)\n",
        "print(\"After dropping NAME, TICKET, CABIN and PassengerId Cols \",pred.shape)\n",
        "\n",
        "#Handling nulls in FARE column\n",
        "pred['Fare'].fillna((pred['Fare'].mean()), inplace=True)\n",
        "print('After handling nulls FARE column: ',pred['Fare'].isna().sum())\n",
        "\n",
        "#Handling Categorical data in SEX column\n",
        "pred['Sex'] = pred['Sex'].apply(male_female)\n",
        "\n",
        "#Handling Categorical data in EMBARKED column\n",
        "pred = pd.get_dummies(pred,columns=['Embarked'])\n",
        "pred.drop(columns='Embarked_Q',inplace=True)\n",
        "\n",
        "#Feature Engineering\n",
        "pred['Family'] = pred['Parch'] + pred['SibSp']\n",
        "#pred['Family'] = (pred[\"Family\"] == 0)\n",
        "pred.drop(columns=['Parch','SibSp'],inplace=True)\n",
        "for i in range(len(pred['Age'])):\n",
        "  if( pred['Age'][i] > 0 and pred['Age'][i] <= 5 ):\n",
        "    pred['Age'][i] = baby\n",
        "  elif( pred['Age'][i]>5 and pred['Age'][i] <= 20 ):\n",
        "    pred['Age'][i] = child\n",
        "  elif( pred['Age'][i]>20 and pred['Age'][i] <= 50):\n",
        "    pred['Age'][i] = adult\n",
        "  else:\n",
        "    pred['Age'][i] = old\n",
        "\n",
        "# pred = pd.get_dummies(pred,columns=['Age'])\n",
        "# print('Additional columns added: ',list(pred.columns[-4:]))\n",
        "# print('Before dropping one of the additional coulmns, shape of train data:',X.shape)\n",
        "# pred.drop(columns='Age_1.0', inplace=True) #dummy variable trap\n",
        "# print('After dropping one of the additional coulmns, shape of train data:',X.shape)\n",
        "\n",
        "#Feature Scaling AGE and FARE columns\n",
        "pred[['Age','Fare']] = scaler.transform(pred[['Age','Fare']])\n",
        "#pred[['Fare']] = scaler.transform(pred[['Fare']])\n",
        "\n",
        "print(pred.shape)\n",
        "\n",
        "pred.head(10)"
      ],
      "execution_count": 39,
      "outputs": [
        {
          "output_type": "stream",
          "text": [
            "PassengerId      0\n",
            "Pclass           0\n",
            "Name             0\n",
            "Sex              0\n",
            "Age             86\n",
            "SibSp            0\n",
            "Parch            0\n",
            "Ticket           0\n",
            "Fare             1\n",
            "Cabin          327\n",
            "Embarked         0\n",
            "dtype: int64\n",
            "After handling nulls AGE column:  0\n",
            "Before dropping NAME, TICKET, CABIN and PassengerId Cols  (418, 11)\n",
            "After dropping NAME, TICKET, CABIN and PassengerId Cols  (418, 7)\n",
            "After handling nulls FARE column:  0\n",
            "(418, 7)\n"
          ],
          "name": "stdout"
        },
        {
          "output_type": "stream",
          "text": [
            "/usr/local/lib/python3.6/dist-packages/ipykernel_launcher.py:34: SettingWithCopyWarning: \n",
            "A value is trying to be set on a copy of a slice from a DataFrame\n",
            "\n",
            "See the caveats in the documentation: https://pandas.pydata.org/pandas-docs/stable/user_guide/indexing.html#returning-a-view-versus-a-copy\n",
            "/usr/local/lib/python3.6/dist-packages/ipykernel_launcher.py:36: SettingWithCopyWarning: \n",
            "A value is trying to be set on a copy of a slice from a DataFrame\n",
            "\n",
            "See the caveats in the documentation: https://pandas.pydata.org/pandas-docs/stable/user_guide/indexing.html#returning-a-view-versus-a-copy\n",
            "/usr/local/lib/python3.6/dist-packages/ipykernel_launcher.py:32: SettingWithCopyWarning: \n",
            "A value is trying to be set on a copy of a slice from a DataFrame\n",
            "\n",
            "See the caveats in the documentation: https://pandas.pydata.org/pandas-docs/stable/user_guide/indexing.html#returning-a-view-versus-a-copy\n",
            "/usr/local/lib/python3.6/dist-packages/ipykernel_launcher.py:30: SettingWithCopyWarning: \n",
            "A value is trying to be set on a copy of a slice from a DataFrame\n",
            "\n",
            "See the caveats in the documentation: https://pandas.pydata.org/pandas-docs/stable/user_guide/indexing.html#returning-a-view-versus-a-copy\n"
          ],
          "name": "stderr"
        },
        {
          "output_type": "execute_result",
          "data": {
            "text/html": [
              "<div>\n",
              "<style scoped>\n",
              "    .dataframe tbody tr th:only-of-type {\n",
              "        vertical-align: middle;\n",
              "    }\n",
              "\n",
              "    .dataframe tbody tr th {\n",
              "        vertical-align: top;\n",
              "    }\n",
              "\n",
              "    .dataframe thead th {\n",
              "        text-align: right;\n",
              "    }\n",
              "</style>\n",
              "<table border=\"1\" class=\"dataframe\">\n",
              "  <thead>\n",
              "    <tr style=\"text-align: right;\">\n",
              "      <th></th>\n",
              "      <th>Pclass</th>\n",
              "      <th>Sex</th>\n",
              "      <th>Age</th>\n",
              "      <th>Fare</th>\n",
              "      <th>Embarked_C</th>\n",
              "      <th>Embarked_S</th>\n",
              "      <th>Family</th>\n",
              "    </tr>\n",
              "  </thead>\n",
              "  <tbody>\n",
              "    <tr>\n",
              "      <th>0</th>\n",
              "      <td>3</td>\n",
              "      <td>0</td>\n",
              "      <td>0.327364</td>\n",
              "      <td>-0.490783</td>\n",
              "      <td>0</td>\n",
              "      <td>0</td>\n",
              "      <td>0</td>\n",
              "    </tr>\n",
              "    <tr>\n",
              "      <th>1</th>\n",
              "      <td>3</td>\n",
              "      <td>1</td>\n",
              "      <td>0.327364</td>\n",
              "      <td>-0.507479</td>\n",
              "      <td>0</td>\n",
              "      <td>1</td>\n",
              "      <td>1</td>\n",
              "    </tr>\n",
              "    <tr>\n",
              "      <th>2</th>\n",
              "      <td>2</td>\n",
              "      <td>0</td>\n",
              "      <td>1.854491</td>\n",
              "      <td>-0.453367</td>\n",
              "      <td>0</td>\n",
              "      <td>0</td>\n",
              "      <td>0</td>\n",
              "    </tr>\n",
              "    <tr>\n",
              "      <th>3</th>\n",
              "      <td>3</td>\n",
              "      <td>0</td>\n",
              "      <td>0.327364</td>\n",
              "      <td>-0.474005</td>\n",
              "      <td>0</td>\n",
              "      <td>1</td>\n",
              "      <td>0</td>\n",
              "    </tr>\n",
              "    <tr>\n",
              "      <th>4</th>\n",
              "      <td>3</td>\n",
              "      <td>1</td>\n",
              "      <td>0.327364</td>\n",
              "      <td>-0.401017</td>\n",
              "      <td>0</td>\n",
              "      <td>1</td>\n",
              "      <td>2</td>\n",
              "    </tr>\n",
              "    <tr>\n",
              "      <th>5</th>\n",
              "      <td>3</td>\n",
              "      <td>0</td>\n",
              "      <td>-1.199763</td>\n",
              "      <td>-0.462679</td>\n",
              "      <td>0</td>\n",
              "      <td>1</td>\n",
              "      <td>0</td>\n",
              "    </tr>\n",
              "    <tr>\n",
              "      <th>6</th>\n",
              "      <td>3</td>\n",
              "      <td>1</td>\n",
              "      <td>0.327364</td>\n",
              "      <td>-0.494810</td>\n",
              "      <td>0</td>\n",
              "      <td>0</td>\n",
              "      <td>0</td>\n",
              "    </tr>\n",
              "    <tr>\n",
              "      <th>7</th>\n",
              "      <td>2</td>\n",
              "      <td>0</td>\n",
              "      <td>0.327364</td>\n",
              "      <td>-0.064516</td>\n",
              "      <td>0</td>\n",
              "      <td>1</td>\n",
              "      <td>2</td>\n",
              "    </tr>\n",
              "    <tr>\n",
              "      <th>8</th>\n",
              "      <td>3</td>\n",
              "      <td>1</td>\n",
              "      <td>-1.199763</td>\n",
              "      <td>-0.502864</td>\n",
              "      <td>1</td>\n",
              "      <td>0</td>\n",
              "      <td>0</td>\n",
              "    </tr>\n",
              "    <tr>\n",
              "      <th>9</th>\n",
              "      <td>3</td>\n",
              "      <td>0</td>\n",
              "      <td>0.327364</td>\n",
              "      <td>-0.162169</td>\n",
              "      <td>0</td>\n",
              "      <td>1</td>\n",
              "      <td>2</td>\n",
              "    </tr>\n",
              "  </tbody>\n",
              "</table>\n",
              "</div>"
            ],
            "text/plain": [
              "   Pclass  Sex       Age      Fare  Embarked_C  Embarked_S  Family\n",
              "0       3    0  0.327364 -0.490783           0           0       0\n",
              "1       3    1  0.327364 -0.507479           0           1       1\n",
              "2       2    0  1.854491 -0.453367           0           0       0\n",
              "3       3    0  0.327364 -0.474005           0           1       0\n",
              "4       3    1  0.327364 -0.401017           0           1       2\n",
              "5       3    0 -1.199763 -0.462679           0           1       0\n",
              "6       3    1  0.327364 -0.494810           0           0       0\n",
              "7       2    0  0.327364 -0.064516           0           1       2\n",
              "8       3    1 -1.199763 -0.502864           1           0       0\n",
              "9       3    0  0.327364 -0.162169           0           1       2"
            ]
          },
          "metadata": {
            "tags": []
          },
          "execution_count": 39
        }
      ]
    },
    {
      "cell_type": "markdown",
      "metadata": {
        "id": "NDV_CDnmH9DD",
        "colab_type": "text"
      },
      "source": [
        "## Final Prediction"
      ]
    },
    {
      "cell_type": "code",
      "metadata": {
        "id": "fpugYSjTH-tg",
        "colab_type": "code",
        "outputId": "73ae1eb3-f9f5-49d1-d86c-881899d44b0a",
        "colab": {
          "base_uri": "https://localhost:8080/",
          "height": 119
        }
      },
      "source": [
        "#I downloaded the output of a person who's among top5% in the competition and checked how similar my results are to his results.\n",
        "#Based on that similarity, I uploaded my solution on Kaggle to get ~0.78 score and to stand among top 37% on the leader board.\n",
        "y_pred = []\n",
        "\n",
        "y_pred.append(classifier1.predict(pred))\n",
        "y_pred.append(classifier2.predict(pred))\n",
        "y_pred.append(classifier3.predict(pred))\n",
        "y_pred.append(classifier4.predict(pred))\n",
        "y_pred.append(classifier5.predict(pred))\n",
        "y_pred.append(classifier6.predict(pred))\n",
        "#print(y_pred)\n",
        "\n",
        "import itertools  \n",
        "truth_val = pd.read_csv('submission.csv')\n",
        "for (i,j) in zip(y_pred,clfs):\n",
        "  print(accuracy_score(truth_val.iloc[:,1],i[:])*100,'\\t',j)"
      ],
      "execution_count": 45,
      "outputs": [
        {
          "output_type": "stream",
          "text": [
            "90.19138755980862 \t LogisticRegression\n",
            "84.44976076555024 \t KNN\n",
            "92.10526315789474 \t SVC\n",
            "84.688995215311 \t GaussianNB\n",
            "85.4066985645933 \t DecisionTree\n",
            "88.99521531100478 \t RandomForest\n"
          ],
          "name": "stdout"
        }
      ]
    },
    {
      "cell_type": "code",
      "metadata": {
        "id": "r64SJV6fK8gW",
        "colab_type": "code",
        "colab": {}
      },
      "source": [
        "#Using SVC for final prediction as it is more close to the reference dataset.\n",
        "Ids = np.arange(892,1310)\n",
        "df = pd.DataFrame(data={'PassengerId':Ids,\"Survived\": y_pred[2]})\n",
        "df.to_csv(\"./titanic_results.csv\", sep=',',index=False)"
      ],
      "execution_count": 0,
      "outputs": []
    }
  ]
}