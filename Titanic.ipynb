{
  "nbformat": 4,
  "nbformat_minor": 0,
  "metadata": {
    "colab": {
      "name": "Titanic.ipynb",
      "provenance": [],
      "authorship_tag": "ABX9TyORLzIx5iWtFryJu4xqyolE",
      "include_colab_link": true
    },
    "kernelspec": {
      "name": "python3",
      "display_name": "Python 3"
    },
    "accelerator": "TPU"
  },
  "cells": [
    {
      "cell_type": "markdown",
      "metadata": {
        "id": "view-in-github",
        "colab_type": "text"
      },
      "source": [
        "<a href=\"https://colab.research.google.com/github/SINDHUSITA/Titanic-Machine-Learning-from-Disaster/blob/master/Titanic.ipynb\" target=\"_parent\"><img src=\"https://colab.research.google.com/assets/colab-badge.svg\" alt=\"Open In Colab\"/></a>"
      ]
    },
    {
      "cell_type": "markdown",
      "metadata": {
        "id": "8rsPgqr7qwRJ",
        "colab_type": "text"
      },
      "source": [
        "# Titanic: Machine Learning from Disaster"
      ]
    },
    {
      "cell_type": "markdown",
      "metadata": {
        "id": "MT_QfcHYq3oh",
        "colab_type": "text"
      },
      "source": [
        "## Importing basic packages"
      ]
    },
    {
      "cell_type": "code",
      "metadata": {
        "id": "OFze4XwyqYxp",
        "colab_type": "code",
        "colab": {}
      },
      "source": [
        "import pandas as pd\n",
        "import numpy as np\n",
        "import matplotlib.pyplot as plt"
      ],
      "execution_count": 0,
      "outputs": []
    },
    {
      "cell_type": "markdown",
      "metadata": {
        "id": "yxmqbkiIrTmo",
        "colab_type": "text"
      },
      "source": [
        "## Importing Data"
      ]
    },
    {
      "cell_type": "code",
      "metadata": {
        "id": "oMDA6IQCrW_C",
        "colab_type": "code",
        "outputId": "2d9a1b8c-0f0b-482c-c77f-9b7bcb322dae",
        "colab": {
          "base_uri": "https://localhost:8080/",
          "height": 391
        }
      },
      "source": [
        "dataset = pd.read_csv('train.csv')\n",
        "pred = pd.read_csv('test.csv')\n",
        "\n",
        "print(\"Train data shape: \",dataset.shape,'\\n\\nHow train data looks: \\n',dataset.head())\n",
        "print(\"Test data shape: \",pred.shape,'\\n\\nHow test data looks: \\n',pred.head())"
      ],
      "execution_count": 0,
      "outputs": [
        {
          "output_type": "stream",
          "text": [
            "Train data shape:  (891, 12) \n",
            "\n",
            "How train data looks: \n",
            "    PassengerId  Survived  Pclass  ...     Fare Cabin  Embarked\n",
            "0            1         0       3  ...   7.2500   NaN         S\n",
            "1            2         1       1  ...  71.2833   C85         C\n",
            "2            3         1       3  ...   7.9250   NaN         S\n",
            "3            4         1       1  ...  53.1000  C123         S\n",
            "4            5         0       3  ...   8.0500   NaN         S\n",
            "\n",
            "[5 rows x 12 columns]\n",
            "Test data shape:  (418, 11) \n",
            "\n",
            "How test data looks: \n",
            "    PassengerId  Pclass  ... Cabin Embarked\n",
            "0          892       3  ...   NaN        Q\n",
            "1          893       3  ...   NaN        S\n",
            "2          894       2  ...   NaN        Q\n",
            "3          895       3  ...   NaN        S\n",
            "4          896       3  ...   NaN        S\n",
            "\n",
            "[5 rows x 11 columns]\n"
          ],
          "name": "stdout"
        }
      ]
    },
    {
      "cell_type": "markdown",
      "metadata": {
        "id": "5u4Vr4gKwnnK",
        "colab_type": "text"
      },
      "source": [
        "### Splitting dependent and independent features"
      ]
    },
    {
      "cell_type": "code",
      "metadata": {
        "id": "B8Z_jh6wtBhg",
        "colab_type": "code",
        "outputId": "a412d18a-9a28-4018-d82f-bec8429d64c6",
        "colab": {
          "base_uri": "https://localhost:8080/",
          "height": 88
        }
      },
      "source": [
        "print(\"Independent features are: \",list(dataset.columns[2:]),'\\nDependent or Prediction variable: ',dataset.columns[1])\n",
        "X = dataset.iloc[:,2:]\n",
        "y = dataset.iloc[:,1:2]\n",
        "print('Shape of X and y: ',X.shape,y.shape)"
      ],
      "execution_count": 0,
      "outputs": [
        {
          "output_type": "stream",
          "text": [
            "Independent features are:  ['Pclass', 'Name', 'Sex', 'Age', 'SibSp', 'Parch', 'Ticket', 'Fare', 'Cabin', 'Embarked'] \n",
            "Dependent or Prediction variable:  Survived\n",
            "Shape of X and y:  (891, 10) (891, 1)\n"
          ],
          "name": "stdout"
        }
      ]
    },
    {
      "cell_type": "markdown",
      "metadata": {
        "id": "0WlrCbO2x5zH",
        "colab_type": "text"
      },
      "source": [
        "## Handling missing data"
      ]
    },
    {
      "cell_type": "code",
      "metadata": {
        "id": "Sytf7QQhry3U",
        "colab_type": "code",
        "outputId": "06713d2b-070b-41bb-8a60-f4b931ce1c9c",
        "colab": {
          "base_uri": "https://localhost:8080/",
          "height": 255
        }
      },
      "source": [
        "nulls = X.isna().sum().sort_values(ascending=False)\n",
        "print('Number of nulls in each column: \\n',nulls)\n",
        "nulls = y.isna().sum().sort_values(ascending=False)\n",
        "print('Number of nulls in dependent feature column: ',nulls)"
      ],
      "execution_count": 0,
      "outputs": [
        {
          "output_type": "stream",
          "text": [
            "Number of nulls in each column: \n",
            " Cabin       687\n",
            "Age         177\n",
            "Embarked      2\n",
            "Fare          0\n",
            "Ticket        0\n",
            "Parch         0\n",
            "SibSp         0\n",
            "Sex           0\n",
            "Name          0\n",
            "Pclass        0\n",
            "dtype: int64\n",
            "Number of nulls in dependent feature column:  Survived    0\n",
            "dtype: int64\n"
          ],
          "name": "stdout"
        }
      ]
    },
    {
      "cell_type": "markdown",
      "metadata": {
        "id": "cOd1ITJCrxIY",
        "colab_type": "text"
      },
      "source": [
        "### Handling missing data in AGE column"
      ]
    },
    {
      "cell_type": "code",
      "metadata": {
        "id": "voSc3o6qsBCI",
        "colab_type": "code",
        "outputId": "029b85ed-7315-4808-c560-4f9349adbdc2",
        "colab": {
          "base_uri": "https://localhost:8080/",
          "height": 170
        }
      },
      "source": [
        "print(\"Handling missing values in Age column:\\n\",X['Age'].head())\n",
        "print('Nulls initially in age: ',X['Age'].isna().sum())\n",
        "# replacing missing ages with mean values\n",
        "X['Age'] = X['Age'].interpolate(method='linear', limit_direction='forward', axis=0)\n",
        "#X['Age'].fillna((X['Age'].mean()), inplace=True)\n",
        "print('After handling: ',X['Age'].isna().sum())"
      ],
      "execution_count": 0,
      "outputs": [
        {
          "output_type": "stream",
          "text": [
            "Handling missing values in Age column:\n",
            " 0    22.0\n",
            "1    38.0\n",
            "2    26.0\n",
            "3    35.0\n",
            "4    35.0\n",
            "Name: Age, dtype: float64\n",
            "Nulls initially in age:  177\n",
            "After handling:  0\n"
          ],
          "name": "stdout"
        }
      ]
    },
    {
      "cell_type": "markdown",
      "metadata": {
        "id": "KjqnJbiBr54G",
        "colab_type": "text"
      },
      "source": [
        "### Handling missing data in CABIN column"
      ]
    },
    {
      "cell_type": "code",
      "metadata": {
        "id": "KcwIIIYYsHvZ",
        "colab_type": "code",
        "outputId": "071ba3af-cc64-41be-d8f7-0cccd5bc1277",
        "colab": {
          "base_uri": "https://localhost:8080/",
          "height": 238
        }
      },
      "source": [
        "print(\"Handling missing values in Cabin column:\\n\",X['Cabin'].head())\n",
        "print('\\nNulls initially in Cabin column: ',X['Cabin'].isna().sum())\n",
        "print('Null percentage in total column: ',(X['Cabin'].isna().sum()/len(X['Cabin'])*100))\n",
        "#Dropping 'Cabin' column as it mostly contains missig values\n",
        "print(\"\\nShape of train data before dropping Cabin: \",X.shape)\n",
        "X.drop(columns='Cabin',inplace=True)\n",
        "print(\"Shape of train data After dropping Cabin: \",X.shape)"
      ],
      "execution_count": 0,
      "outputs": [
        {
          "output_type": "stream",
          "text": [
            "Handling missing values in Cabin column:\n",
            " 0     NaN\n",
            "1     C85\n",
            "2     NaN\n",
            "3    C123\n",
            "4     NaN\n",
            "Name: Cabin, dtype: object\n",
            "\n",
            "Nulls initially in Cabin column:  687\n",
            "Null percentage in total column:  77.10437710437711\n",
            "\n",
            "Shape of train data before dropping Cabin:  (891, 10)\n",
            "Shape of train data After dropping Cabin:  (891, 9)\n"
          ],
          "name": "stdout"
        }
      ]
    },
    {
      "cell_type": "markdown",
      "metadata": {
        "id": "sjeaLbYNr6EW",
        "colab_type": "text"
      },
      "source": [
        "### Handling missing data in EMBARKED column"
      ]
    },
    {
      "cell_type": "code",
      "metadata": {
        "id": "5swHdQT3x6Qr",
        "colab_type": "code",
        "outputId": "004390bc-aaa0-4f0a-9338-9da5dc9e9db7",
        "colab": {
          "base_uri": "https://localhost:8080/",
          "height": 204
        }
      },
      "source": [
        "print(\"\\nHandling missing values in Embarked column:\\n\",X['Embarked'].head())\n",
        "print('Unique values in Embarked: ',X['Embarked'].unique())\n",
        "print('Nulls initially in Embarked: ',X['Embarked'].isna().sum())\n",
        "# replacing missing values with most frequent values\n",
        "most_freq = X['Embarked'].value_counts().index[0]\n",
        "X['Embarked'].fillna((most_freq), inplace=True)\n",
        "print('After handling: ',X['Embarked'].isna().sum())"
      ],
      "execution_count": 0,
      "outputs": [
        {
          "output_type": "stream",
          "text": [
            "\n",
            "Handling missing values in Embarked column:\n",
            " 0    S\n",
            "1    C\n",
            "2    S\n",
            "3    S\n",
            "4    S\n",
            "Name: Embarked, dtype: object\n",
            "Unique values in Embarked:  ['S' 'C' 'Q' nan]\n",
            "Nulls initially in Embarked:  2\n",
            "After handling:  0\n"
          ],
          "name": "stdout"
        }
      ]
    },
    {
      "cell_type": "markdown",
      "metadata": {
        "id": "ceFmKxyA7WQQ",
        "colab_type": "text"
      },
      "source": [
        "## Handling Categorical Data"
      ]
    },
    {
      "cell_type": "code",
      "metadata": {
        "id": "_zXIPyaB7WjK",
        "colab_type": "code",
        "outputId": "760c14c3-bee7-4aa9-e8cb-dec9a1a305b4",
        "colab": {
          "base_uri": "https://localhost:8080/",
          "height": 34
        }
      },
      "source": [
        "print('Categorical columns in data are:',list(X.loc[:,X.dtypes==object].columns))\n",
        "# print(df[[\"RM\",\"LSTAT\"]].corr())"
      ],
      "execution_count": 0,
      "outputs": [
        {
          "output_type": "stream",
          "text": [
            "Categorical columns in data are: ['Name', 'Sex', 'Ticket', 'Embarked']\n"
          ],
          "name": "stdout"
        }
      ]
    },
    {
      "cell_type": "markdown",
      "metadata": {
        "id": "_U1OfFXU8-HB",
        "colab_type": "text"
      },
      "source": [
        "### Handling NAME column"
      ]
    },
    {
      "cell_type": "code",
      "metadata": {
        "id": "9MsAoAfl9ZQa",
        "colab_type": "code",
        "outputId": "352da642-e01f-4912-eaa0-2d286321ee3f",
        "colab": {
          "base_uri": "https://localhost:8080/",
          "height": 68
        }
      },
      "source": [
        "print('Number of unique values in this column: ',len(np.unique(X['Name'])))\n",
        "#One Hot Encoding here is meaning less and a person's name cannot be related to his survival\n",
        "print('Before dropping Name coulmn, shape of train data:',X.shape)\n",
        "X.drop(columns='Name',inplace=True)\n",
        "print('After dropping Name coulmn, shape of train data:',X.shape)"
      ],
      "execution_count": 0,
      "outputs": [
        {
          "output_type": "stream",
          "text": [
            "Number of unique values in this column:  891\n",
            "Before dropping Name coulmn, shape of train data: (891, 9)\n",
            "After dropping Name coulmn, shape of train data: (891, 8)\n"
          ],
          "name": "stdout"
        }
      ]
    },
    {
      "cell_type": "markdown",
      "metadata": {
        "id": "A7a1n-DJ8_ET",
        "colab_type": "text"
      },
      "source": [
        "### Handling SEX column"
      ]
    },
    {
      "cell_type": "code",
      "metadata": {
        "id": "tEx-lB8F_4HV",
        "colab_type": "code",
        "outputId": "2a62529f-5fe0-4f37-d450-4429722aebea",
        "colab": {
          "base_uri": "https://localhost:8080/",
          "height": 51
        }
      },
      "source": [
        "print('Unique values in this column with categorical values: ',np.unique(X['Sex']))\n",
        "#We replace female with 2 and male with 1\n",
        "def male_female(x):\n",
        "  if x == 'male':\n",
        "    return 1\n",
        "  if x == 'female':\n",
        "    return 2\n",
        "X['Sex'] = X['Sex'].apply(male_female)\n",
        "print('Unique values in this column with numeric values: ',np.unique(X['Sex']))"
      ],
      "execution_count": 0,
      "outputs": [
        {
          "output_type": "stream",
          "text": [
            "Unique values in this column with categorical values:  ['female' 'male']\n",
            "Unique values in this column with numeric values:  [1 2]\n"
          ],
          "name": "stdout"
        }
      ]
    },
    {
      "cell_type": "markdown",
      "metadata": {
        "id": "olUldC0v8_QW",
        "colab_type": "text"
      },
      "source": [
        "### Handling TICKET column"
      ]
    },
    {
      "cell_type": "code",
      "metadata": {
        "id": "aQ-K6VGFTbHk",
        "colab_type": "code",
        "outputId": "b4477e38-048d-448e-dcdc-8f048bd81761",
        "colab": {
          "base_uri": "https://localhost:8080/",
          "height": 68
        }
      },
      "source": [
        "print('Number of unique values in this column: ',len(np.unique(X['Ticket'])))\n",
        "#One Hot Encoding here is meaning less and a person's Ticket number cannot be related to his survival\n",
        "print('Before dropping Ticket coulmn, shape of train data:',X.shape)\n",
        "X.drop(columns='Ticket',inplace=True)\n",
        "print('After dropping Ticket coulmn, shape of train data:',X.shape)"
      ],
      "execution_count": 0,
      "outputs": [
        {
          "output_type": "stream",
          "text": [
            "Number of unique values in this column:  681\n",
            "Before dropping Ticket coulmn, shape of train data: (891, 8)\n",
            "After dropping Ticket coulmn, shape of train data: (891, 7)\n"
          ],
          "name": "stdout"
        }
      ]
    },
    {
      "cell_type": "markdown",
      "metadata": {
        "id": "VBGPiKmU8_bX",
        "colab_type": "text"
      },
      "source": [
        "### Handling EMBARKED column"
      ]
    },
    {
      "cell_type": "code",
      "metadata": {
        "id": "_oQK1SFwUzKw",
        "colab_type": "code",
        "outputId": "17a75637-69b3-4d17-af05-8f2f6bd8f2d3",
        "colab": {
          "base_uri": "https://localhost:8080/",
          "height": 85
        }
      },
      "source": [
        "print('Unique values in this column with categorical values: ',np.unique(X['Embarked']))\n",
        "#One Hot Encoding the column\n",
        "X = pd.get_dummies(X,columns=['Embarked'])\n",
        "print('Additional columns added: ',list(X.columns[-3:]))\n",
        "print('Before dropping one of the additional coulmns, shape of train data:',X.shape)\n",
        "X.drop(columns='Embarked_Q', inplace=True) #dummy variable trap\n",
        "print('After dropping one of the additional coulmns, shape of train data:',X.shape)"
      ],
      "execution_count": 0,
      "outputs": [
        {
          "output_type": "stream",
          "text": [
            "Unique values in this column with categorical values:  ['C' 'Q' 'S']\n",
            "Additional columns added:  ['Embarked_C', 'Embarked_Q', 'Embarked_S']\n",
            "Before dropping one of the additional coulmns, shape of train data: (891, 9)\n",
            "After dropping one of the additional coulmns, shape of train data: (891, 8)\n"
          ],
          "name": "stdout"
        }
      ]
    },
    {
      "cell_type": "markdown",
      "metadata": {
        "id": "J9PkalegtBRg",
        "colab_type": "text"
      },
      "source": [
        "## Exploratory Data Analysis"
      ]
    },
    {
      "cell_type": "markdown",
      "metadata": {
        "id": "7x9O1tSPwxI0",
        "colab_type": "text"
      },
      "source": [
        "### How each independent feature is correlated with the dependent feature?"
      ]
    },
    {
      "cell_type": "code",
      "metadata": {
        "id": "rnOHGnLVYXDj",
        "colab_type": "code",
        "outputId": "372faa25-0c43-4f8a-ade3-083e13ba131a",
        "colab": {
          "base_uri": "https://localhost:8080/",
          "height": 265
        }
      },
      "source": [
        "# # plt.scatter(y,X['Sex'])\n",
        "# # plt.scatter(y,X['Embarked_C'])\n",
        "fig = plt.figure()\n",
        "for i in range(0,4):\n",
        "  plt.subplot(2, 2, i+1)\n",
        "  plt.scatter(y, X[X.columns[i]])\n",
        "plt.show()"
      ],
      "execution_count": 0,
      "outputs": [
        {
          "output_type": "display_data",
          "data": {
            "image/png": "[encoded data removed]",
            "text/plain": [
              "<Figure size 432x288 with 4 Axes>"
            ]
          },
          "metadata": {
            "tags": [],
            "needs_background": "light"
          }
        }
      ]
    },
    {
      "cell_type": "code",
      "metadata": {
        "id": "BaKR6g5MdgBV",
        "colab_type": "code",
        "outputId": "eb1e77f6-b1e3-412d-848c-fb20d92a1e1f",
        "colab": {
          "base_uri": "https://localhost:8080/",
          "height": 280
        }
      },
      "source": [
        "for i in range(4,8):\n",
        "  plt.subplot(2, 2, i-3)\n",
        "  plt.xlabel(X.columns[i])\n",
        "  plt.scatter(y, X[X.columns[i]])\n",
        "plt.show()"
      ],
      "execution_count": 0,
      "outputs": [
        {
          "output_type": "display_data",
          "data": {
            "image/png": "[encoded data removed]",
            "text/plain": [
              "<Figure size 432x288 with 4 Axes>"
            ]
          },
          "metadata": {
            "tags": [],
            "needs_background": "light"
          }
        }
      ]
    },
    {
      "cell_type": "markdown",
      "metadata": {
        "id": "mFO5A-wSYY0-",
        "colab_type": "text"
      },
      "source": [
        "### Correlation Heat Map"
      ]
    },
    {
      "cell_type": "code",
      "metadata": {
        "id": "PgRmuseLxHYf",
        "colab_type": "code",
        "outputId": "33462230-67d4-42e3-df1e-507684df8646",
        "colab": {
          "base_uri": "https://localhost:8080/",
          "height": 355
        }
      },
      "source": [
        "import seaborn as sns\n",
        "print(X.shape)\n",
        "joined = X.join([y])\n",
        "corr_data = joined.corr()\n",
        "sns.heatmap(corr_data)"
      ],
      "execution_count": 0,
      "outputs": [
        {
          "output_type": "stream",
          "text": [
            "(891, 8)\n"
          ],
          "name": "stdout"
        },
        {
          "output_type": "execute_result",
          "data": {
            "text/plain": [
              "<matplotlib.axes._subplots.AxesSubplot at 0x7fcde14b8fd0>"
            ]
          },
          "metadata": {
            "tags": []
          },
          "execution_count": 376
        },
        {
          "output_type": "display_data",
          "data": {
            "image/png": "[encoded data removed]",
            "text/plain": [
              "<Figure size 432x288 with 2 Axes>"
            ]
          },
          "metadata": {
            "tags": [],
            "needs_background": "light"
          }
        }
      ]
    },
    {
      "cell_type": "markdown",
      "metadata": {
        "id": "RduJ7n8ekMDH",
        "colab_type": "text"
      },
      "source": [
        "## Feature Scaling"
      ]
    },
    {
      "cell_type": "code",
      "metadata": {
        "id": "kXy8FnUhlel_",
        "colab_type": "code",
        "outputId": "29f9860a-05ff-4c7b-e97f-d79f1c46452c",
        "colab": {
          "base_uri": "https://localhost:8080/",
          "height": 969
        }
      },
      "source": [
        "for i in range(0,8):\n",
        "  print(X.columns[i],'\\n',X[X.columns[i]].head())"
      ],
      "execution_count": 0,
      "outputs": [
        {
          "output_type": "stream",
          "text": [
            "Pclass \n",
            " 0    3\n",
            "1    1\n",
            "2    3\n",
            "3    1\n",
            "4    3\n",
            "Name: Pclass, dtype: int64\n",
            "Sex \n",
            " 0    1\n",
            "1    2\n",
            "2    2\n",
            "3    2\n",
            "4    1\n",
            "Name: Sex, dtype: int64\n",
            "Age \n",
            " 0    22.0\n",
            "1    38.0\n",
            "2    26.0\n",
            "3    35.0\n",
            "4    35.0\n",
            "Name: Age, dtype: float64\n",
            "SibSp \n",
            " 0    1\n",
            "1    1\n",
            "2    0\n",
            "3    1\n",
            "4    0\n",
            "Name: SibSp, dtype: int64\n",
            "Parch \n",
            " 0    0\n",
            "1    0\n",
            "2    0\n",
            "3    0\n",
            "4    0\n",
            "Name: Parch, dtype: int64\n",
            "Fare \n",
            " 0     7.2500\n",
            "1    71.2833\n",
            "2     7.9250\n",
            "3    53.1000\n",
            "4     8.0500\n",
            "Name: Fare, dtype: float64\n",
            "Embarked_C \n",
            " 0    0\n",
            "1    1\n",
            "2    0\n",
            "3    0\n",
            "4    0\n",
            "Name: Embarked_C, dtype: uint8\n",
            "Embarked_S \n",
            " 0    1\n",
            "1    0\n",
            "2    1\n",
            "3    1\n",
            "4    1\n",
            "Name: Embarked_S, dtype: uint8\n"
          ],
          "name": "stdout"
        }
      ]
    },
    {
      "cell_type": "code",
      "metadata": {
        "id": "3HM6MuWbmi1b",
        "colab_type": "code",
        "colab": {}
      },
      "source": [
        "# #Columns to be feature scaled are FARE and AGE\n",
        "# from sklearn.preprocessing import StandardScaler\n",
        "# scaler = StandardScaler()\n",
        "\n",
        "# X[['Age','Fare']] = scaler.fit_transform(X[['Age','Fare']])\n",
        "# print(min(X['Age']),max(X['Age']),min(X['Fare']),max(X['Fare']))\n",
        "\n",
        "# X.head()"
      ],
      "execution_count": 0,
      "outputs": []
    },
    {
      "cell_type": "markdown",
      "metadata": {
        "id": "eKIaNzMTsZYq",
        "colab_type": "text"
      },
      "source": [
        "## Splitting train and test data"
      ]
    },
    {
      "cell_type": "code",
      "metadata": {
        "id": "AbAmo8a1saFk",
        "colab_type": "code",
        "colab": {}
      },
      "source": [
        "from sklearn.model_selection import train_test_split\n",
        "X_train, X_test, y_train, y_test = train_test_split(X, y, test_size=0.2, random_state=0)"
      ],
      "execution_count": 0,
      "outputs": []
    },
    {
      "cell_type": "markdown",
      "metadata": {
        "id": "cg-L3jtEtKzM",
        "colab_type": "text"
      },
      "source": [
        "## Training, Testing and evaluating the model using various algorithms"
      ]
    },
    {
      "cell_type": "markdown",
      "metadata": {
        "id": "zreR13jEtvxC",
        "colab_type": "text"
      },
      "source": [
        "### 1. Logistic Regression"
      ]
    },
    {
      "cell_type": "code",
      "metadata": {
        "id": "NdIikvkdvqrY",
        "colab_type": "code",
        "outputId": "a0d4184b-dd3d-4511-ce2b-4672d52e2230",
        "colab": {
          "base_uri": "https://localhost:8080/",
          "height": 292
        }
      },
      "source": [
        "#Training\n",
        "from sklearn.linear_model import LogisticRegression\n",
        "classifier1 = LogisticRegression()\n",
        "classifier1.fit(X_train, y_train)"
      ],
      "execution_count": 0,
      "outputs": [
        {
          "output_type": "stream",
          "text": [
            "/usr/local/lib/python3.6/dist-packages/sklearn/utils/validation.py:760: DataConversionWarning: A column-vector y was passed when a 1d array was expected. Please change the shape of y to (n_samples, ), for example using ravel().\n",
            "  y = column_or_1d(y, warn=True)\n",
            "/usr/local/lib/python3.6/dist-packages/sklearn/linear_model/_logistic.py:940: ConvergenceWarning: lbfgs failed to converge (status=1):\n",
            "STOP: TOTAL NO. of ITERATIONS REACHED LIMIT.\n",
            "\n",
            "Increase the number of iterations (max_iter) or scale the data as shown in:\n",
            "    https://scikit-learn.org/stable/modules/preprocessing.html\n",
            "Please also refer to the documentation for alternative solver options:\n",
            "    https://scikit-learn.org/stable/modules/linear_model.html#logistic-regression\n",
            "  extra_warning_msg=_LOGISTIC_SOLVER_CONVERGENCE_MSG)\n"
          ],
          "name": "stderr"
        },
        {
          "output_type": "execute_result",
          "data": {
            "text/plain": [
              "LogisticRegression(C=1.0, class_weight=None, dual=False, fit_intercept=True,\n",
              "                   intercept_scaling=1, l1_ratio=None, max_iter=100,\n",
              "                   multi_class='auto', n_jobs=None, penalty='l2',\n",
              "                   random_state=None, solver='lbfgs', tol=0.0001, verbose=0,\n",
              "                   warm_start=False)"
            ]
          },
          "metadata": {
            "tags": []
          },
          "execution_count": 380
        }
      ]
    },
    {
      "cell_type": "code",
      "metadata": {
        "id": "-qN7mKTMvqye",
        "colab_type": "code",
        "colab": {}
      },
      "source": [
        "#Testing\n",
        "y_pred1 = classifier1.predict(X_test)"
      ],
      "execution_count": 0,
      "outputs": []
    },
    {
      "cell_type": "code",
      "metadata": {
        "id": "qKQk1d7mvq6a",
        "colab_type": "code",
        "outputId": "94536d84-9a4f-4233-eebf-4535e7bd6c54",
        "colab": {
          "base_uri": "https://localhost:8080/",
          "height": 68
        }
      },
      "source": [
        "#Evaluation\n",
        "from sklearn.metrics import confusion_matrix, accuracy_score\n",
        "cm = confusion_matrix(y_test, y_pred1)\n",
        "print(cm)\n",
        "print(\"Score: \",accuracy_score(y_test, y_pred1))\n",
        "\n",
        "acc_dict = {}\n",
        "acc_dict['LogisticRegression'] = accuracy_score(y_test, y_pred1)"
      ],
      "execution_count": 0,
      "outputs": [
        {
          "output_type": "stream",
          "text": [
            "[[94 16]\n",
            " [17 52]]\n",
            "Score:  0.8156424581005587\n"
          ],
          "name": "stdout"
        }
      ]
    },
    {
      "cell_type": "markdown",
      "metadata": {
        "id": "Btwf1zhuuPDo",
        "colab_type": "text"
      },
      "source": [
        "### 2. KNearest neighbors classifier"
      ]
    },
    {
      "cell_type": "code",
      "metadata": {
        "id": "u98JlaU-xDKb",
        "colab_type": "code",
        "outputId": "fcb02ed2-5b52-4391-a1a7-4edf2756088f",
        "colab": {
          "base_uri": "https://localhost:8080/",
          "height": 122
        }
      },
      "source": [
        "#Training\n",
        "from sklearn.neighbors import KNeighborsClassifier\n",
        "classifier2 = KNeighborsClassifier(n_neighbors = 5, metric = 'minkowski', p=2)\n",
        "classifier2.fit(X_train, y_train)"
      ],
      "execution_count": 0,
      "outputs": [
        {
          "output_type": "stream",
          "text": [
            "/usr/local/lib/python3.6/dist-packages/ipykernel_launcher.py:4: DataConversionWarning: A column-vector y was passed when a 1d array was expected. Please change the shape of y to (n_samples, ), for example using ravel().\n",
            "  after removing the cwd from sys.path.\n"
          ],
          "name": "stderr"
        },
        {
          "output_type": "execute_result",
          "data": {
            "text/plain": [
              "KNeighborsClassifier(algorithm='auto', leaf_size=30, metric='minkowski',\n",
              "                     metric_params=None, n_jobs=None, n_neighbors=5, p=2,\n",
              "                     weights='uniform')"
            ]
          },
          "metadata": {
            "tags": []
          },
          "execution_count": 383
        }
      ]
    },
    {
      "cell_type": "code",
      "metadata": {
        "id": "ztJUiXi8xDPO",
        "colab_type": "code",
        "colab": {}
      },
      "source": [
        "#Testing\n",
        "y_pred2 = classifier2.predict(X_test)"
      ],
      "execution_count": 0,
      "outputs": []
    },
    {
      "cell_type": "code",
      "metadata": {
        "id": "S4HrVMySxDVq",
        "colab_type": "code",
        "outputId": "48763f2f-62ba-48f3-9d7c-f874d5de625a",
        "colab": {
          "base_uri": "https://localhost:8080/",
          "height": 68
        }
      },
      "source": [
        "#Evaluation\n",
        "cm = confusion_matrix(y_test, y_pred2)\n",
        "print(cm)\n",
        "print(\"Score: \",accuracy_score(y_test, y_pred2))\n",
        "\n",
        "acc_dict['KNN'] = accuracy_score(y_test, y_pred2)"
      ],
      "execution_count": 0,
      "outputs": [
        {
          "output_type": "stream",
          "text": [
            "[[97 13]\n",
            " [34 35]]\n",
            "Score:  0.7374301675977654\n"
          ],
          "name": "stdout"
        }
      ]
    },
    {
      "cell_type": "markdown",
      "metadata": {
        "id": "5j-2OQ1XuPc7",
        "colab_type": "text"
      },
      "source": [
        "### 3. Support Vector Machine(linear kernel)"
      ]
    },
    {
      "cell_type": "code",
      "metadata": {
        "id": "KukeMj9axcTB",
        "colab_type": "code",
        "outputId": "9fa0cdf4-6dae-4389-a21c-54b8322e132d",
        "colab": {
          "base_uri": "https://localhost:8080/",
          "height": 139
        }
      },
      "source": [
        "from sklearn.svm import SVC\n",
        "classifier3 = SVC(kernel = 'rbf',degree = 5,probability=True)\n",
        "classifier3.fit(X_train, y_train)"
      ],
      "execution_count": 0,
      "outputs": [
        {
          "output_type": "stream",
          "text": [
            "/usr/local/lib/python3.6/dist-packages/sklearn/utils/validation.py:760: DataConversionWarning: A column-vector y was passed when a 1d array was expected. Please change the shape of y to (n_samples, ), for example using ravel().\n",
            "  y = column_or_1d(y, warn=True)\n"
          ],
          "name": "stderr"
        },
        {
          "output_type": "execute_result",
          "data": {
            "text/plain": [
              "SVC(C=1.0, break_ties=False, cache_size=200, class_weight=None, coef0=0.0,\n",
              "    decision_function_shape='ovr', degree=5, gamma='scale', kernel='rbf',\n",
              "    max_iter=-1, probability=True, random_state=None, shrinking=True, tol=0.001,\n",
              "    verbose=False)"
            ]
          },
          "metadata": {
            "tags": []
          },
          "execution_count": 386
        }
      ]
    },
    {
      "cell_type": "code",
      "metadata": {
        "id": "G0gQP_xvxcXY",
        "colab_type": "code",
        "colab": {}
      },
      "source": [
        "#Testing\n",
        "y_pred3 = classifier3.predict(X_test)"
      ],
      "execution_count": 0,
      "outputs": []
    },
    {
      "cell_type": "code",
      "metadata": {
        "id": "28kVuQvExca-",
        "colab_type": "code",
        "outputId": "ada4a8cf-48a1-4fe7-d332-d2476c3f38b2",
        "colab": {
          "base_uri": "https://localhost:8080/",
          "height": 68
        }
      },
      "source": [
        "#Evaluation\n",
        "cm = confusion_matrix(y_test, y_pred3)\n",
        "print(cm)\n",
        "print(\"Score: \",accuracy_score(y_test, y_pred3))\n",
        "\n",
        "acc_dict['SVC'] = accuracy_score(y_test, y_pred3)"
      ],
      "execution_count": 0,
      "outputs": [
        {
          "output_type": "stream",
          "text": [
            "[[104   6]\n",
            " [ 44  25]]\n",
            "Score:  0.7206703910614525\n"
          ],
          "name": "stdout"
        }
      ]
    },
    {
      "cell_type": "markdown",
      "metadata": {
        "id": "7yFIs2UJuPm3",
        "colab_type": "text"
      },
      "source": [
        "### 4. Naive Bayes classifier"
      ]
    },
    {
      "cell_type": "code",
      "metadata": {
        "id": "-WxR0MU7xgJV",
        "colab_type": "code",
        "outputId": "78e5dc0e-7245-4291-9048-1b494ccaba7a",
        "colab": {
          "base_uri": "https://localhost:8080/",
          "height": 88
        }
      },
      "source": [
        "from sklearn.naive_bayes import GaussianNB\n",
        "classifier4 = GaussianNB()\n",
        "classifier4.fit(X_train, y_train)"
      ],
      "execution_count": 0,
      "outputs": [
        {
          "output_type": "stream",
          "text": [
            "/usr/local/lib/python3.6/dist-packages/sklearn/naive_bayes.py:206: DataConversionWarning: A column-vector y was passed when a 1d array was expected. Please change the shape of y to (n_samples, ), for example using ravel().\n",
            "  y = column_or_1d(y, warn=True)\n"
          ],
          "name": "stderr"
        },
        {
          "output_type": "execute_result",
          "data": {
            "text/plain": [
              "GaussianNB(priors=None, var_smoothing=1e-09)"
            ]
          },
          "metadata": {
            "tags": []
          },
          "execution_count": 389
        }
      ]
    },
    {
      "cell_type": "code",
      "metadata": {
        "id": "cQjQ7S7txgOQ",
        "colab_type": "code",
        "colab": {}
      },
      "source": [
        "#Testing\n",
        "y_pred4 = classifier4.predict(X_test)"
      ],
      "execution_count": 0,
      "outputs": []
    },
    {
      "cell_type": "code",
      "metadata": {
        "id": "ht7SIQICxgTC",
        "colab_type": "code",
        "outputId": "362f867e-0756-4d14-dc37-6e2ee0d70e69",
        "colab": {
          "base_uri": "https://localhost:8080/",
          "height": 68
        }
      },
      "source": [
        "#Evaluation\n",
        "cm = confusion_matrix(y_test, y_pred4)\n",
        "print(cm)\n",
        "print(\"Score: \",accuracy_score(y_test, y_pred4))\n",
        "\n",
        "acc_dict['GaussianNB'] = accuracy_score(y_test, y_pred4)"
      ],
      "execution_count": 0,
      "outputs": [
        {
          "output_type": "stream",
          "text": [
            "[[87 23]\n",
            " [14 55]]\n",
            "Score:  0.7932960893854749\n"
          ],
          "name": "stdout"
        }
      ]
    },
    {
      "cell_type": "markdown",
      "metadata": {
        "id": "SsJCihJzuPvQ",
        "colab_type": "text"
      },
      "source": [
        "### 5. Decision Tree classifier"
      ]
    },
    {
      "cell_type": "code",
      "metadata": {
        "id": "pZE40B_FxjMk",
        "colab_type": "code",
        "outputId": "73e5bb73-76cb-47fb-f831-a8978d457d42",
        "colab": {
          "base_uri": "https://localhost:8080/",
          "height": 119
        }
      },
      "source": [
        "from sklearn.tree import DecisionTreeClassifier\n",
        "classifier5 = DecisionTreeClassifier(criterion = 'entropy')\n",
        "classifier5.fit(X_train, y_train)"
      ],
      "execution_count": 0,
      "outputs": [
        {
          "output_type": "execute_result",
          "data": {
            "text/plain": [
              "DecisionTreeClassifier(ccp_alpha=0.0, class_weight=None, criterion='entropy',\n",
              "                       max_depth=None, max_features=None, max_leaf_nodes=None,\n",
              "                       min_impurity_decrease=0.0, min_impurity_split=None,\n",
              "                       min_samples_leaf=1, min_samples_split=2,\n",
              "                       min_weight_fraction_leaf=0.0, presort='deprecated',\n",
              "                       random_state=None, splitter='best')"
            ]
          },
          "metadata": {
            "tags": []
          },
          "execution_count": 392
        }
      ]
    },
    {
      "cell_type": "code",
      "metadata": {
        "id": "mATkMorLxjRw",
        "colab_type": "code",
        "colab": {}
      },
      "source": [
        "#Testing\n",
        "y_pred5 = classifier5.predict(X_test)"
      ],
      "execution_count": 0,
      "outputs": []
    },
    {
      "cell_type": "code",
      "metadata": {
        "id": "0nUCa4RaxjXs",
        "colab_type": "code",
        "outputId": "cd3720ef-202c-4f09-a697-298fe8474624",
        "colab": {
          "base_uri": "https://localhost:8080/",
          "height": 68
        }
      },
      "source": [
        "#Evaluation\n",
        "cm = confusion_matrix(y_test, y_pred5)\n",
        "print(cm)\n",
        "print(\"Score: \",accuracy_score(y_test, y_pred5))\n",
        "\n",
        "acc_dict['DecisionTree'] = accuracy_score(y_test, y_pred5)"
      ],
      "execution_count": 0,
      "outputs": [
        {
          "output_type": "stream",
          "text": [
            "[[95 15]\n",
            " [19 50]]\n",
            "Score:  0.8100558659217877\n"
          ],
          "name": "stdout"
        }
      ]
    },
    {
      "cell_type": "markdown",
      "metadata": {
        "id": "GeV0QbhMuP3y",
        "colab_type": "text"
      },
      "source": [
        "### 6. Random Forest classifier"
      ]
    },
    {
      "cell_type": "code",
      "metadata": {
        "id": "emvRiY-uxmT6",
        "colab_type": "code",
        "outputId": "72e9be20-05e7-4e88-bf86-82e0bc335500",
        "colab": {
          "base_uri": "https://localhost:8080/",
          "height": 207
        }
      },
      "source": [
        "from sklearn.ensemble import RandomForestClassifier\n",
        "classifier6 = RandomForestClassifier(criterion = 'entropy', n_estimators = 100)\n",
        "classifier6.fit(X_train, y_train)"
      ],
      "execution_count": 0,
      "outputs": [
        {
          "output_type": "stream",
          "text": [
            "/usr/local/lib/python3.6/dist-packages/ipykernel_launcher.py:3: DataConversionWarning: A column-vector y was passed when a 1d array was expected. Please change the shape of y to (n_samples,), for example using ravel().\n",
            "  This is separate from the ipykernel package so we can avoid doing imports until\n"
          ],
          "name": "stderr"
        },
        {
          "output_type": "execute_result",
          "data": {
            "text/plain": [
              "RandomForestClassifier(bootstrap=True, ccp_alpha=0.0, class_weight=None,\n",
              "                       criterion='entropy', max_depth=None, max_features='auto',\n",
              "                       max_leaf_nodes=None, max_samples=None,\n",
              "                       min_impurity_decrease=0.0, min_impurity_split=None,\n",
              "                       min_samples_leaf=1, min_samples_split=2,\n",
              "                       min_weight_fraction_leaf=0.0, n_estimators=100,\n",
              "                       n_jobs=None, oob_score=False, random_state=None,\n",
              "                       verbose=0, warm_start=False)"
            ]
          },
          "metadata": {
            "tags": []
          },
          "execution_count": 395
        }
      ]
    },
    {
      "cell_type": "code",
      "metadata": {
        "id": "8HA15npMxmhX",
        "colab_type": "code",
        "colab": {}
      },
      "source": [
        "#Testing\n",
        "y_pred6 = classifier6.predict(X_test)"
      ],
      "execution_count": 0,
      "outputs": []
    },
    {
      "cell_type": "code",
      "metadata": {
        "id": "UMdzignZxmxp",
        "colab_type": "code",
        "outputId": "e9a86eb1-3e83-48b0-bf99-a230f4907cd8",
        "colab": {
          "base_uri": "https://localhost:8080/",
          "height": 68
        }
      },
      "source": [
        "#Evaluation\n",
        "cm = confusion_matrix(y_test, y_pred6)\n",
        "print(cm)\n",
        "print(\"Score: \",accuracy_score(y_test, y_pred6))\n",
        "\n",
        "acc_dict['RandomForest'] = accuracy_score(y_test, y_pred6)"
      ],
      "execution_count": 0,
      "outputs": [
        {
          "output_type": "stream",
          "text": [
            "[[97 13]\n",
            " [18 51]]\n",
            "Score:  0.8268156424581006\n"
          ],
          "name": "stdout"
        }
      ]
    },
    {
      "cell_type": "markdown",
      "metadata": {
        "id": "obmnrY5h0Z1X",
        "colab_type": "text"
      },
      "source": [
        "## Model Selection"
      ]
    },
    {
      "cell_type": "code",
      "metadata": {
        "id": "SclUe_2w0aGz",
        "colab_type": "code",
        "outputId": "3045c6de-e7eb-4335-fdfe-9f5fc5dceec0",
        "colab": {
          "base_uri": "https://localhost:8080/",
          "height": 296
        }
      },
      "source": [
        "log_cols = [\"Classifier\", \"Accuracy\"]\n",
        "log \t = pd.DataFrame(columns=log_cols)\n",
        "clfs = list(acc_dict.keys())\n",
        "for clf in clfs:\n",
        "  log_entry = pd.DataFrame([[clf, acc_dict[clf]]], columns=log_cols)\n",
        "  log = log.append(log_entry)\n",
        "\n",
        "sns.barplot(x='Accuracy', y='Classifier', data=log, color=\"g\")"
      ],
      "execution_count": 0,
      "outputs": [
        {
          "output_type": "execute_result",
          "data": {
            "text/plain": [
              "<matplotlib.axes._subplots.AxesSubplot at 0x7fcde1270208>"
            ]
          },
          "metadata": {
            "tags": []
          },
          "execution_count": 398
        },
        {
          "output_type": "display_data",
          "data": {
            "image/png": "[encoded data removed]",
            "text/plain": [
              "<Figure size 432x288 with 1 Axes>"
            ]
          },
          "metadata": {
            "tags": [],
            "needs_background": "light"
          }
        }
      ]
    },
    {
      "cell_type": "markdown",
      "metadata": {
        "id": "1fnqGYHj9Y08",
        "colab_type": "text"
      },
      "source": [
        "## Preparing Test data for Prediction"
      ]
    },
    {
      "cell_type": "code",
      "metadata": {
        "id": "bGsASaLe9ZHF",
        "colab_type": "code",
        "outputId": "7384c42f-331d-45b0-c52f-a06781bb3bf1",
        "colab": {
          "base_uri": "https://localhost:8080/",
          "height": 631
        }
      },
      "source": [
        "pred = pd.read_csv(\"test.csv\")\n",
        "print(pred.isnull().sum())\n",
        "\n",
        "#Handling nulls in AGE column\n",
        "pred['Age'].fillna((pred['Age'].mean()), inplace=True)\n",
        "print('After handling nulls AGE column: ',pred['Age'].isna().sum())\n",
        "\n",
        "#dropping the NAME, TICKET, CABIN and PASSENGERID column\n",
        "print(\"Before dropping NAME, TICKET, CABIN and PassengerId Cols \",pred.shape)\n",
        "pred.drop(columns=['Name','Ticket','PassengerId','Cabin'],inplace=True)\n",
        "print(\"After dropping NAME, TICKET, CABIN and PassengerId Cols \",pred.shape)\n",
        "\n",
        "#Handling nulls in FARE column\n",
        "pred['Fare'].fillna((pred['Fare'].mean()), inplace=True)\n",
        "print('After handling nulls FARE column: ',pred['Fare'].isna().sum())\n",
        "\n",
        "#Handling Categorical data in SEX column\n",
        "pred['Sex'] = pred['Sex'].apply(male_female)\n",
        "\n",
        "#Handling Categorical data in EMBARKED column\n",
        "pred = pd.get_dummies(pred,columns=['Embarked'])\n",
        "pred.drop(columns='Embarked_Q',inplace=True)\n",
        "\n",
        "#Feature Scaling AGE and FARE columns\n",
        "pred[['Age','Fare']] = scaler.transform(pred[['Age','Fare']])\n",
        "\n",
        "pred.head(10)"
      ],
      "execution_count": 0,
      "outputs": [
        {
          "output_type": "stream",
          "text": [
            "PassengerId      0\n",
            "Pclass           0\n",
            "Name             0\n",
            "Sex              0\n",
            "Age             86\n",
            "SibSp            0\n",
            "Parch            0\n",
            "Ticket           0\n",
            "Fare             1\n",
            "Cabin          327\n",
            "Embarked         0\n",
            "dtype: int64\n",
            "After handling nulls AGE column:  0\n",
            "Before dropping NAME, TICKET, CABIN and PassengerId Cols  (418, 11)\n",
            "After dropping NAME, TICKET, CABIN and PassengerId Cols  (418, 7)\n",
            "After handling nulls FARE column:  0\n"
          ],
          "name": "stdout"
        },
        {
          "output_type": "execute_result",
          "data": {
            "text/html": [
              "<div>\n",
              "<style scoped>\n",
              "    .dataframe tbody tr th:only-of-type {\n",
              "        vertical-align: middle;\n",
              "    }\n",
              "\n",
              "    .dataframe tbody tr th {\n",
              "        vertical-align: top;\n",
              "    }\n",
              "\n",
              "    .dataframe thead th {\n",
              "        text-align: right;\n",
              "    }\n",
              "</style>\n",
              "<table border=\"1\" class=\"dataframe\">\n",
              "  <thead>\n",
              "    <tr style=\"text-align: right;\">\n",
              "      <th></th>\n",
              "      <th>Pclass</th>\n",
              "      <th>Sex</th>\n",
              "      <th>Age</th>\n",
              "      <th>SibSp</th>\n",
              "      <th>Parch</th>\n",
              "      <th>Fare</th>\n",
              "      <th>Embarked_C</th>\n",
              "      <th>Embarked_S</th>\n",
              "    </tr>\n",
              "  </thead>\n",
              "  <tbody>\n",
              "    <tr>\n",
              "      <th>0</th>\n",
              "      <td>3</td>\n",
              "      <td>1</td>\n",
              "      <td>0.369449</td>\n",
              "      <td>0</td>\n",
              "      <td>0</td>\n",
              "      <td>-0.490783</td>\n",
              "      <td>0</td>\n",
              "      <td>0</td>\n",
              "    </tr>\n",
              "    <tr>\n",
              "      <th>1</th>\n",
              "      <td>3</td>\n",
              "      <td>2</td>\n",
              "      <td>1.331378</td>\n",
              "      <td>1</td>\n",
              "      <td>0</td>\n",
              "      <td>-0.507479</td>\n",
              "      <td>0</td>\n",
              "      <td>1</td>\n",
              "    </tr>\n",
              "    <tr>\n",
              "      <th>2</th>\n",
              "      <td>2</td>\n",
              "      <td>1</td>\n",
              "      <td>2.485693</td>\n",
              "      <td>0</td>\n",
              "      <td>0</td>\n",
              "      <td>-0.453367</td>\n",
              "      <td>0</td>\n",
              "      <td>0</td>\n",
              "    </tr>\n",
              "    <tr>\n",
              "      <th>3</th>\n",
              "      <td>3</td>\n",
              "      <td>1</td>\n",
              "      <td>-0.207709</td>\n",
              "      <td>0</td>\n",
              "      <td>0</td>\n",
              "      <td>-0.474005</td>\n",
              "      <td>0</td>\n",
              "      <td>1</td>\n",
              "    </tr>\n",
              "    <tr>\n",
              "      <th>4</th>\n",
              "      <td>3</td>\n",
              "      <td>2</td>\n",
              "      <td>-0.592481</td>\n",
              "      <td>1</td>\n",
              "      <td>1</td>\n",
              "      <td>-0.401017</td>\n",
              "      <td>0</td>\n",
              "      <td>1</td>\n",
              "    </tr>\n",
              "    <tr>\n",
              "      <th>5</th>\n",
              "      <td>3</td>\n",
              "      <td>1</td>\n",
              "      <td>-1.208115</td>\n",
              "      <td>0</td>\n",
              "      <td>0</td>\n",
              "      <td>-0.462679</td>\n",
              "      <td>0</td>\n",
              "      <td>1</td>\n",
              "    </tr>\n",
              "    <tr>\n",
              "      <th>6</th>\n",
              "      <td>3</td>\n",
              "      <td>2</td>\n",
              "      <td>0.023154</td>\n",
              "      <td>0</td>\n",
              "      <td>0</td>\n",
              "      <td>-0.494810</td>\n",
              "      <td>0</td>\n",
              "      <td>0</td>\n",
              "    </tr>\n",
              "    <tr>\n",
              "      <th>7</th>\n",
              "      <td>2</td>\n",
              "      <td>1</td>\n",
              "      <td>-0.284663</td>\n",
              "      <td>1</td>\n",
              "      <td>1</td>\n",
              "      <td>-0.064516</td>\n",
              "      <td>0</td>\n",
              "      <td>1</td>\n",
              "    </tr>\n",
              "    <tr>\n",
              "      <th>8</th>\n",
              "      <td>3</td>\n",
              "      <td>2</td>\n",
              "      <td>-0.900298</td>\n",
              "      <td>0</td>\n",
              "      <td>0</td>\n",
              "      <td>-0.502864</td>\n",
              "      <td>1</td>\n",
              "      <td>0</td>\n",
              "    </tr>\n",
              "    <tr>\n",
              "      <th>9</th>\n",
              "      <td>3</td>\n",
              "      <td>1</td>\n",
              "      <td>-0.669435</td>\n",
              "      <td>2</td>\n",
              "      <td>0</td>\n",
              "      <td>-0.162169</td>\n",
              "      <td>0</td>\n",
              "      <td>1</td>\n",
              "    </tr>\n",
              "  </tbody>\n",
              "</table>\n",
              "</div>"
            ],
            "text/plain": [
              "   Pclass  Sex       Age  SibSp  Parch      Fare  Embarked_C  Embarked_S\n",
              "0       3    1  0.369449      0      0 -0.490783           0           0\n",
              "1       3    2  1.331378      1      0 -0.507479           0           1\n",
              "2       2    1  2.485693      0      0 -0.453367           0           0\n",
              "3       3    1 -0.207709      0      0 -0.474005           0           1\n",
              "4       3    2 -0.592481      1      1 -0.401017           0           1\n",
              "5       3    1 -1.208115      0      0 -0.462679           0           1\n",
              "6       3    2  0.023154      0      0 -0.494810           0           0\n",
              "7       2    1 -0.284663      1      1 -0.064516           0           1\n",
              "8       3    2 -0.900298      0      0 -0.502864           1           0\n",
              "9       3    1 -0.669435      2      0 -0.162169           0           1"
            ]
          },
          "metadata": {
            "tags": []
          },
          "execution_count": 399
        }
      ]
    },
    {
      "cell_type": "markdown",
      "metadata": {
        "id": "NDV_CDnmH9DD",
        "colab_type": "text"
      },
      "source": [
        "## Final Prediction"
      ]
    },
    {
      "cell_type": "code",
      "metadata": {
        "id": "fpugYSjTH-tg",
        "colab_type": "code",
        "outputId": "c0d353a6-ac32-4cad-bf81-f42d434d7786",
        "colab": {
          "base_uri": "https://localhost:8080/",
          "height": 34
        }
      },
      "source": [
        "#we are using Random Forest Regressor as it gave better results\n",
        "\n",
        "y_pred = classifier6.predict(pred)\n",
        "print(y_pred.shape)"
      ],
      "execution_count": 0,
      "outputs": [
        {
          "output_type": "stream",
          "text": [
            "(418,)\n"
          ],
          "name": "stdout"
        }
      ]
    }
  ]
}